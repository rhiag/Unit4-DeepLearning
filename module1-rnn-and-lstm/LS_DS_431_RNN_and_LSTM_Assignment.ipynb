{
 "cells": [
  {
   "cell_type": "markdown",
   "metadata": {},
   "source": [
    "\n",
    "## *Data Science Unit 4 Sprint 3 Assignment 1*\n",
    "\n",
    "# Recurrent Neural Networks and Long Short Term Memory (LSTM)\n",
    "\n",
    "![Monkey at a typewriter](https://upload.wikimedia.org/wikipedia/commons/thumb/3/3c/Chimpanzee_seated_at_typewriter.jpg/603px-Chimpanzee_seated_at_typewriter.jpg)\n",
    "\n",
    "It is said that [**infinite monkeys typing for an infinite amount of time**](https://en.wikipedia.org/wiki/Infinite_monkey_theorem) will eventually type, among other things, the complete works of William Shakespeare. Let's see if we can get there a bit faster, with the power of Recurrent Neural Networks and LSTM.\n",
    "\n",
    "We will focus specifically on Shakespeare's Sonnets in order to improve our model's ability to learn from the data."
   ]
  },
  {
   "cell_type": "code",
   "execution_count": 1,
   "metadata": {
    "execution": {
     "iopub.execute_input": "2020-06-15T18:18:20.453Z",
     "iopub.status.busy": "2020-06-15T18:18:20.442Z",
     "iopub.status.idle": "2020-06-15T18:18:20.513Z",
     "shell.execute_reply": "2020-06-15T18:18:20.523Z"
    }
   },
   "outputs": [],
   "source": [
    "import random\n",
    "import sys\n",
    "import os\n",
    "\n",
    "import requests\n",
    "import pandas as pd\n",
    "import numpy as np\n",
    "import matplotlib.pyplot as plt\n",
    "from tensorflow.keras.callbacks import LambdaCallback\n",
    "\n",
    "from tensorflow.keras.preprocessing import sequence\n",
    "from tensorflow.keras.models import Sequential\n",
    "from tensorflow.keras.layers import Dense, Embedding, Bidirectional\n",
    "from tensorflow.keras.layers import LSTM\n",
    "\n",
    "%matplotlib inline\n",
    "\n",
    "# a custom data prep class that we'll be using \n",
    "from data_cleaning_toolkit_class import data_cleaning_toolkit"
   ]
  },
  {
   "cell_type": "markdown",
   "metadata": {},
   "source": [
    "### Use request to pull data from a URL\n",
    "\n",
    "[**Read through the request documentation**](https://requests.readthedocs.io/en/master/user/quickstart/#make-a-request) in order to learn how to download the Shakespeare Sonnets from the Gutenberg website. \n",
    "\n",
    "**Protip:** Do not over think it."
   ]
  },
  {
   "cell_type": "code",
   "execution_count": 2,
   "metadata": {
    "deletable": false,
    "nbgrader": {
     "cell_type": "code",
     "checksum": "6ac79c2e9a53d747ebf8fb41f4b39340",
     "grade": false,
     "grade_id": "cell-b8ececfad1f60557",
     "locked": false,
     "schema_version": 3,
     "solution": true,
     "task": false
    }
   },
   "outputs": [],
   "source": [
    "# download all of Shakespears Sonnets from the Project Gutenberg website\n",
    "\n",
    "# here's the link for the sonnets\n",
    "url_shakespeare_sonnets = \"https://www.gutenberg.org/cache/epub/1041/pg1041.txt\"\n",
    "\n",
    "# use request and the url to download all of the sonnets - save the result to `r`\n",
    "import requests\n",
    "\n",
    "\n",
    "\n",
    "# YOUR CODE HERE\n",
    "r = requests.get(url_shakespeare_sonnets)"
   ]
  },
  {
   "cell_type": "code",
   "execution_count": 3,
   "metadata": {
    "deletable": false,
    "nbgrader": {
     "cell_type": "code",
     "checksum": "4ab4f4f14188a9f3703d43d223bfa150",
     "grade": false,
     "grade_id": "cell-0cd0c8509bc8e8cf",
     "locked": false,
     "schema_version": 3,
     "solution": true,
     "task": false
    }
   },
   "outputs": [],
   "source": [
    "# move the downloaded text out of the request object - save the result to `raw_text_data`\n",
    "# hint: take at look at the attributes of `r`\n",
    "# YOUR CODE HERE\n",
    "raw_text_data = r.text"
   ]
  },
  {
   "cell_type": "code",
   "execution_count": 4,
   "metadata": {},
   "outputs": [
    {
     "output_type": "execute_result",
     "data": {
      "text/plain": [
       "str"
      ]
     },
     "metadata": {},
     "execution_count": 4
    }
   ],
   "source": [
    "# check the data type of `raw_text_data`\n",
    "type(raw_text_data)"
   ]
  },
  {
   "cell_type": "markdown",
   "metadata": {},
   "source": [
    "### Data Cleaning"
   ]
  },
  {
   "cell_type": "code",
   "execution_count": 5,
   "metadata": {},
   "outputs": [
    {
     "output_type": "execute_result",
     "data": {
      "text/plain": [
       "\"\\ufeffThe Project Gutenberg EBook of Shakespeare's Sonnets, by William Shakespeare\\r\\n\\r\\nThis eBook is for the use of anyone anywhere at no cost and with\\r\\nalmost no restrictions whatsoever.  You may copy it, give it away or\\r\\nre-use it under the terms of the Project Gutenberg License included\\r\\nwith this eBook or online at www.gutenberg.org\\r\\n\\r\\n\\r\\nTitle: Shakespeare's Sonnets\\r\\n\\r\\nAuthor: William Shakespeare\\r\\n\\r\\nPosting Date: April 7, 2014 [EBook #1041]\\r\\nRelease Date: September, 1997\\r\\nLast Updated: March 10, 2010\\r\\n\\r\\nLanguage: English\\r\\n\\r\\n\\r\\n*** START OF THIS PROJECT GUTENBERG EBOOK SHAKESPEARE'S SONNETS ***\\r\\n\\r\\n\\r\\n\\r\\n\\r\\nProduced by Joseph S. Miller and Embry-Riddle Aeronautical\\r\\nUniversity Library. HTML version by Al Haines.\\r\\n\\r\\n\\r\\n\\r\\n\\r\\n\\r\\n\\r\\n\\r\\n\\r\\n\\r\\n\\r\\nTHE SONNETS\\r\\n\\r\\nby William Shakespeare\\r\\n\\r\\n\\r\\n\\r\\n\\r\\n  I\\r\\n\\r\\n  From fairest creatures we desire increase,\\r\\n  That thereby beauty's rose might never die,\\r\\n  But as the riper should by time decease,\\r\\n  His tender heir might bear his memory:\\r\\n  But thou, contracted to thine own bright eyes,\\r\\n  Feed'st thy light's flame with self-substantial fuel,\\r\\n  Making a famine where abundance lies,\\r\\n  Thy self thy foe, to thy sweet self too cruel:\\r\\n  Thou that art now the world's fresh ornament,\\r\\n  And only herald to the gaudy spring,\\r\\n  Within thine own bud buriest thy content,\\r\\n  And tender churl mak'st waste in niggarding:\\r\\n    Pity the world, or else this glutton be,\\r\\n    To eat the world's due, by the grave and thee.\\r\\n\\r\\n  II\\r\\n\\r\\n  When forty winters shall besiege thy brow,\\r\\n  And dig deep trenches in thy beauty's field,\\r\\n  Thy youth's proud livery so gazed on now,\\r\\n  Will be a tatter'd weed of small worth held:\\r\\n  Then being asked, where all thy beauty lies,\\r\\n  Where all the treasure of thy lusty days;\\r\\n  To say, within thine own deep sunken eyes,\\r\\n  Were an all-eating shame, and thriftless praise.\\r\\n  How much more praise deserv'd thy beauty's use,\\r\\n  If thou couldst answer 'This fair child of mine\\r\\n  Shall sum my count, and make my old excuse,'\\r\\n  Proving his beauty by succession thine!\\r\\n    This were to be new made when thou art old,\\r\\n    And see thy blood warm when thou feel'st it cold.\\r\\n\\r\\n  III\\r\\n\\r\\n  Look in thy glass and tell the face thou viewest\\r\\n  Now is the time that face should form another;\\r\\n  Whose fresh repair if now thou not renewest,\\r\\n  Thou dost beguile the world, unbless some mother.\\r\\n  For where is she so fair whose unear'd womb\\r\\n  Disdains the tillage of thy husbandry?\\r\\n  Or who is he so fond will be the tomb,\\r\\n  Of his self-love to stop posterity?\\r\\n  Thou art thy mother's glass and she in thee\\r\\n  Calls back the lovely April of her prime;\\r\\n  So thou through windows of thine age shalt see,\\r\\n  Despite of wrinkles this thy golden time.\\r\\n    But if thou live, remember'd not to be,\\r\\n    Die single and thine image dies with thee.\\r\\n\\r\\n  IV\\r\\n\\r\\n  Unthrifty loveliness, why dost thou spend\\r\\n  Upon thy self thy beauty's legacy?\\r\\n  Nature's bequest gives nothing, but doth lend,\\r\\n  And being frank she lends to those are free:\\r\\n  Then, beaut\""
      ]
     },
     "metadata": {},
     "execution_count": 5
    }
   ],
   "source": [
    "# as usual, we are tasked with cleaning up messy data\n",
    "# Question: Do you see any characters that we could use to split up the text?\n",
    "raw_text_data[:3000]"
   ]
  },
  {
   "cell_type": "code",
   "execution_count": 6,
   "metadata": {
    "deletable": false,
    "nbgrader": {
     "cell_type": "code",
     "checksum": "13b66e41cc64459f0757f6f53a78e08f",
     "grade": false,
     "grade_id": "cell-916f742d2cea299a",
     "locked": false,
     "schema_version": 3,
     "solution": true,
     "task": false
    }
   },
   "outputs": [],
   "source": [
    "# split the text into lines and save the result to `split_data`\n",
    "# YOUR CODE HERE\n",
    "split_data = raw_text_data.splitlines()\n"
   ]
  },
  {
   "cell_type": "code",
   "execution_count": 7,
   "metadata": {},
   "outputs": [
    {
     "output_type": "execute_result",
     "data": {
      "text/plain": [
       "[\"\\ufeffThe Project Gutenberg EBook of Shakespeare's Sonnets, by William Shakespeare\",\n",
       " '',\n",
       " 'This eBook is for the use of anyone anywhere at no cost and with',\n",
       " 'almost no restrictions whatsoever.  You may copy it, give it away or',\n",
       " 're-use it under the terms of the Project Gutenberg License included',\n",
       " 'with this eBook or online at www.gutenberg.org',\n",
       " '',\n",
       " '',\n",
       " \"Title: Shakespeare's Sonnets\",\n",
       " '',\n",
       " 'Author: William Shakespeare',\n",
       " '',\n",
       " 'Posting Date: April 7, 2014 [EBook #1041]',\n",
       " 'Release Date: September, 1997',\n",
       " 'Last Updated: March 10, 2010',\n",
       " '',\n",
       " 'Language: English',\n",
       " '',\n",
       " '',\n",
       " \"*** START OF THIS PROJECT GUTENBERG EBOOK SHAKESPEARE'S SONNETS ***\"]"
      ]
     },
     "metadata": {},
     "execution_count": 7
    }
   ],
   "source": [
    "# we need to drop all the boilder plate text (i.e. titles and descriptions) as well as white spaces\n",
    "# so that we are left with only the sonnets themselves \n",
    "\n",
    "split_data[:20]"
   ]
  },
  {
   "cell_type": "markdown",
   "metadata": {},
   "source": [
    "**Use list index slicing in order to remove the titles and descriptions so we are only left with the sonnets.**\n"
   ]
  },
  {
   "cell_type": "code",
   "execution_count": 8,
   "metadata": {
    "deletable": false,
    "nbgrader": {
     "cell_type": "code",
     "checksum": "00ead0a1024ff72116c24f6b473c1aac",
     "grade": false,
     "grade_id": "cell-1f388b88b0eec24a",
     "locked": false,
     "schema_version": 3,
     "solution": true,
     "task": false
    }
   },
   "outputs": [],
   "source": [
    "# sonnets exists between these indicies \n",
    "# titles and descriptions exist outside of these indicies\n",
    "\n",
    "# use index slicing to isolate the sonnet lines - save the result to `sonnets`\n",
    "\n",
    "# YOUR CODE HERE\n",
    "sonnets = split_data[45:]"
   ]
  },
  {
   "cell_type": "code",
   "execution_count": 9,
   "metadata": {},
   "outputs": [
    {
     "output_type": "execute_result",
     "data": {
      "text/plain": [
       "[\"    And nothing 'gainst Time's scythe can make defence\",\n",
       " '    Save breed, to brave him when he takes thee hence.',\n",
       " '',\n",
       " '  XIII',\n",
       " '',\n",
       " '  O! that you were your self; but, love you are',\n",
       " '  No longer yours, than you your self here live:',\n",
       " '  Against this coming end you should prepare,',\n",
       " '  And your sweet semblance to some other give:',\n",
       " '  So should that beauty which you hold in lease',\n",
       " '  Find no determination; then you were',\n",
       " \"  Yourself again, after yourself's decease,\",\n",
       " '  When your sweet issue your sweet form should bear.',\n",
       " '  Who lets so fair a house fall to decay,',\n",
       " '  Which husbandry in honour might uphold,',\n",
       " \"  Against the stormy gusts of winter's day\",\n",
       " \"  And barren rage of death's eternal cold?\",\n",
       " '    O! none but unthrifts. Dear my love, you know,',\n",
       " '    You had a father: let your son say so.',\n",
       " '',\n",
       " '  XIV',\n",
       " '',\n",
       " '  Not from the stars do I my judgement pluck;',\n",
       " '  And yet methinks I have astronomy,',\n",
       " '  But not to tell of good or evil luck,',\n",
       " \"  Of plagues, of dearths, or seasons' quality;\",\n",
       " '  Nor can I fortune to brief minutes tell,',\n",
       " '  Pointing to each his thunder, rain and wind,',\n",
       " '  Or say with princes if it shall go well',\n",
       " '  By oft predict that I in heaven find:',\n",
       " '  But from thine eyes my knowledge I derive,',\n",
       " '  And constant stars in them I read such art',\n",
       " \"  As 'Truth and beauty shall together thrive,\",\n",
       " \"  If from thyself, to store thou wouldst convert';\",\n",
       " '    Or else of thee this I prognosticate:',\n",
       " \"    'Thy end is truth's and beauty's doom and date.'\",\n",
       " '',\n",
       " '  XV',\n",
       " '',\n",
       " '  When I consider every thing that grows']"
      ]
     },
     "metadata": {},
     "execution_count": 9
    }
   ],
   "source": [
    "# notice how all non-sonnet lines have far less characters than the actual sonnet lines?\n",
    "# well, let's use that observation to filter out all the non-sonnet lines\n",
    "sonnets[200:240]\n"
   ]
  },
  {
   "cell_type": "code",
   "execution_count": 10,
   "metadata": {
    "deletable": false,
    "nbgrader": {
     "cell_type": "code",
     "checksum": "649cf52260448a5faf539ad6b6e8e6e8",
     "grade": false,
     "grade_id": "cell-84c4b3cf1f3c032a",
     "locked": false,
     "schema_version": 3,
     "solution": true,
     "task": false
    }
   },
   "outputs": [],
   "source": [
    "# any string with less than n_chars characters will be filtered out - save results to `filtered_sonnets`\n",
    "\n",
    "# YOUR CODE HERE\n",
    "n_chars = 3\n",
    "filtered_sonnets = [word for word in sonnets if len(word)>n_chars]"
   ]
  },
  {
   "cell_type": "code",
   "execution_count": 11,
   "metadata": {},
   "outputs": [
    {
     "output_type": "execute_result",
     "data": {
      "text/plain": [
       "Were it not thy sour leisure gave sweet leave,',\n",
       " '  To entertain the time with thoughts of love,',\n",
       " '  Which time and thoughts so sweetly doth deceive,',\n",
       " '    And that thou teachest how to make one twain,',\n",
       " '    By praising him here who doth hence remain.',\n",
       " '  XL',\n",
       " '  Take all my loves, my love, yea take them all;',\n",
       " '  What hast thou then more than thou hadst before?',\n",
       " '  No love, my love, that thou mayst true love call;',\n",
       " '  All mine was thine, before thou hadst this more.',\n",
       " '  Then, if for my love, thou my love receivest,',\n",
       " '  I cannot blame thee, for my love thou usest;',\n",
       " \"  But yet be blam'd, if thou thy self deceivest\",\n",
       " '  By wilful taste of what thyself refusest.',\n",
       " '  I do forgive thy robbery, gentle thief,',\n",
       " '  Although thou steal thee all my poverty:',\n",
       " '  And yet, love knows it is a greater grief',\n",
       " \"  To bear love's wrong, than hate's known injury.\",\n",
       " '    Lascivious grace, in whom all ill well shows,',\n",
       " '    Kill me with spites yet we must not be foes.',\n",
       " '  XLI',\n",
       " '  Those pretty wrongs that liberty commits,',\n",
       " '  When I am sometime absent from thy heart,',\n",
       " '  Thy beauty, and thy years full well befits,',\n",
       " '  For still temptation follows where thou art.',\n",
       " '  Gentle thou art, and therefore to be won,',\n",
       " \"  Beauteous thou art, therefore to be assail'd;\",\n",
       " \"  And when a woman woos, what woman's son\",\n",
       " \"  Will sourly leave her till he have prevail'd?\",\n",
       " '  Ay me! but yet thou mightst my seat forbear,',\n",
       " '  And chide thy beauty and thy straying youth,',\n",
       " '  Who lead thee in their riot even there',\n",
       " '  Where thou art forced to break a twofold truth:--',\n",
       " '    Hers by thy beauty tempting her to thee,',\n",
       " '    Thine by thy beauty being false to me.',\n",
       " '  XLII',\n",
       " '  That thou hast her it is not all my grief,',\n",
       " '  And yet it may be said I loved her dearly;',\n",
       " '  That she hath thee is of my wailing chief,',\n",
       " '  A loss in love that touches me more nearly.',\n",
       " '  Loving offenders thus I will excuse ye:',\n",
       " \"  Thou dost love her, because thou know'st I love her;\",\n",
       " '  And for my sake even so doth she abuse me,',\n",
       " '  Suffering my friend for my sake to approve her.',\n",
       " \"  If I lose thee, my loss is my love's gain,\",\n",
       " '  And losing her, my friend hath found that loss;',\n",
       " '  Both find each other, and I lose both twain,',\n",
       " '  And both for my sake lay on me this cross:',\n",
       " \"    But here's the joy; my friend and I are one;\",\n",
       " '    Sweet flattery! then she loves but me alone.',\n",
       " '  XLIII',\n",
       " '  When most I wink, then do mine eyes best see,',\n",
       " '  For all the day they view things unrespected;',\n",
       " '  But when I sleep, in dreams they look on thee,',\n",
       " '  And darkly bright, are bright in dark directed.',\n",
       " '  Then thou, whose shadow shadows doth make bright,',\n",
       " \"  How would thy shadow's form form happy show\",\n",
       " '  To the clear day with thy much clearer light,',\n",
       " '  When to unseeing eyes thy shade shines so!',\n",
       " '  How would, I say, mine eyes be blessed made',\n",
       " '  By looking on thee in the living day,',\n",
       " '  When in dead night thy fair imperfect shade',\n",
       " '  Through heavy sleep on sightless eyes doth stay!',\n",
       " '    All days are nights to see till I see thee,',\n",
       " '    And nights bright days when dreams do show thee me.',\n",
       " '  XLIV',\n",
       " '  If the dull substance of my flesh were thought,',\n",
       " '  Injurious distance should not stop my way;',\n",
       " '  For then despite of space I would be brought,',\n",
       " '  From limits far remote, where thou dost stay.',\n",
       " '  No matter then although my foot did stand',\n",
       " \"  Upon the farthest earth remov'd from thee;\",\n",
       " '  For nimble thought can jump both sea and land,',\n",
       " '  As soon as think the place where he would be.',\n",
       " '  But, ah! thought kills me that I am not thought,',\n",
       " '  To leap large lengths of miles when thou art gone,',\n",
       " '  But that so much of earth and water wrought,',\n",
       " \"  I must attend time's leisure with my moan;\",\n",
       " '    Receiving nought by elements so slow',\n",
       " \"    But heavy tears, badges of either's woe.\",\n",
       " '  XLV',\n",
       " '  The other two, slight air, and purging fire',\n",
       " '  Are both with thee, wherever I abide;',\n",
       " '  The first my thought, the other my desire,',\n",
       " '  These present-absent with swift motion slide.',\n",
       " '  For when these quicker elements are gone',\n",
       " '  In tender embassy of love to thee,',\n",
       " '  My life, being made of four, with two alone',\n",
       " \"  Sinks down to death, oppress'd with melancholy;\",\n",
       " \"  Until life's composition be recur'd\",\n",
       " \"  By those swift messengers return'd from thee,\",\n",
       " \"  Who even but now come back again, assur'd,\",\n",
       " '  Of thy fair health, recounting it to me:',\n",
       " '    This told, I joy; but then no longer glad,',\n",
       " '    I send them back again, and straight grow sad.',\n",
       " '  XLVI',\n",
       " '  Mine eye and heart are at a mortal war,',\n",
       " '  How to divide the conquest of thy sight;',\n",
       " \"  Mine eye my heart thy picture's sight would bar,\",\n",
       " '  My heart mine eye the freedom of that right.',\n",
       " '  My heart doth plead that thou in him dost lie,--',\n",
       " \"  A closet never pierc'd with crystal eyes--\",\n",
       " '  But the defendant doth that plea deny,',\n",
       " '  And says in him thy fair appearance lies.',\n",
       " '  To side this title is impannelled',\n",
       " '  A quest of thoughts, all tenants to the heart;',\n",
       " '  And by their verdict is determined',\n",
       " \"  The clear eye's moiety, and the dear heart's part:\",\n",
       " \"    As thus; mine eye's due is thy outward part,\",\n",
       " \"    And my heart's right, thy inward love of heart.\",\n",
       " '  XLVII',\n",
       " '  Betwixt mine eye and heart a league is took,',\n",
       " '  And each doth good turns now unto the other:',\n",
       " \"  When that mine eye is famish'd for a look,\",\n",
       " '  Or heart in love with sighs himself doth smother,',\n",
       " \"  With my love's picture then my eye doth feast,\",\n",
       " '  And to the painted banquet bids my heart;',\n",
       " \"  Another time mine eye is my heart's guest,\",\n",
       " '  And in his thoughts of love doth share a part:',\n",
       " '  So, either by thy picture or my love,',\n",
       " '  Thy self away, art present still with me;',\n",
       " '  For thou not farther than my thoughts canst move,',\n",
       " '  And I am still with them, and they with thee;',\n",
       " '    Or, if they sleep, thy picture in my sight',\n",
       " \"    Awakes my heart, to heart's and eye's delight.\",\n",
       " '  XLVIII',\n",
       " '  How careful was I when I took my way,',\n",
       " '  Each trifle under truest bars to thrust,',\n",
       " '  That to my use it might unused stay',\n",
       " '  From hands of falsehood, in sure wards of trust!',\n",
       " '  But thou, to whom my jewels trifles are,',\n",
       " '  Most worthy comfort, now my greatest grief,',\n",
       " '  Thou best of dearest, and mine only care,',\n",
       " '  Art left the prey of every vulgar thief.',\n",
       " \"  Thee have I not lock'd up in any chest,\",\n",
       " '  Save where thou art not, though I feel thou art,',\n",
       " '  Within the gentle closure of my breast,',\n",
       " '  From whence at pleasure thou mayst come and part;',\n",
       " \"    And even thence thou wilt be stol'n I fear,\",\n",
       " '    For truth proves thievish for a prize so dear.',\n",
       " '  XLIX',\n",
       " '  Against that time, if ever that time come,',\n",
       " '  When I shall see thee frown on my defects,',\n",
       " '  When as thy love hath cast his utmost sum,',\n",
       " \"  Call'd to that audit by advis'd respects;\",\n",
       " '  Against that time when thou shalt strangely pass,',\n",
       " '  And scarcely greet me with that sun, thine eye,',\n",
       " '  When love, converted from the thing it was,',\n",
       " '  Shall reasons find of settled gravity;',\n",
       " '  Against that time do I ensconce me here,',\n",
       " '  Within the knowledge of mine own desert,',\n",
       " '  And this my hand, against my self uprear,',\n",
       " '  To guard the lawful reasons on thy part:',\n",
       " '    To leave poor me thou hast the strength of laws,',\n",
       " '    Since why to love I can allege no cause.',\n",
       " '  How heavy do I journey on the way,',\n",
       " \"  When what I seek, my weary travel's end,\",\n",
       " '  Doth teach that ease and that repose to say,',\n",
       " \"  'Thus far the miles are measured from thy friend!'\",\n",
       " '  The beast that bears me, tired with my woe,',\n",
       " '  Plods dully on, to bear that weight in me,',\n",
       " '  As if by some instinct the wretch did know',\n",
       " \"  His rider lov'd not speed, being made from thee:\",\n",
       " '  The bloody spur cannot provoke him on,',\n",
       " '  That sometimes anger thrusts into his hide,',\n",
       " '  Which heavily he answers with a groan,',\n",
       " '  More sharp to me than spurring to his side;',\n",
       " '    For that same groan doth put this in my mind,',\n",
       " '    My grief lies onward, and my joy behind.',\n",
       " '  LI',\n",
       " '  Thus can my love excuse the slow offence',\n",
       " '  Of my dull bearer when from thee I speed:',\n",
       " '  From where thou art why should I haste me thence?',\n",
       " '  Till I return, of posting is no need.',\n",
       " '  O! what excuse will my poor beast then find,',\n",
       " '  When swift extremity can seem but slow?',\n",
       " '  Then should I spur, though mounted on the wind,',\n",
       " '  In winged speed no motion shall I know,',\n",
       " '  Then can no horse with my desire keep pace;',\n",
       " \"  Therefore desire, of perfect'st love being made,\",\n",
       " '  Shall neigh--no dull flesh--in his fiery race;',\n",
       " '  But love, for love, thus shall excuse my jade,--',\n",
       " \"    'Since from thee going, he went wilful-slow,\",\n",
       " \"    Towards thee I'll run, and give him leave to go.'\",\n",
       " '  LII',\n",
       " '  So am I as the rich, whose blessed key,',\n",
       " '  Can bring him to his sweet up-locked treasure,',\n",
       " '  The which he will not every hour survey,',\n",
       " '  For blunting the fine point of seldom pleasure.',\n",
       " '  Therefore are feasts so solemn and so rare,',\n",
       " '  Since, seldom coming in that long year set,',\n",
       " '  Like stones of worth they thinly placed are,',\n",
       " '  Or captain jewels in the carcanet.',\n",
       " '  So is the time that keeps you as my chest,',\n",
       " '  Or as the wardrobe which the robe doth hide,',\n",
       " '  To make some special instant special-blest,',\n",
       " \"  By new unfolding his imprison'd pride.\",\n",
       " '    Blessed are you whose worthiness gives scope,',\n",
       " '    Being had, to triumph; being lacked, to hope.',\n",
       " '  LIII',\n",
       " '  What is your substance, whereof are you made,',\n",
       " '  That millions of strange shadows on you tend?',\n",
       " '  Since every one, hath every one, one shade,',\n",
       " '  And you but one, can every shadow lend.',\n",
       " '  Describe Adonis, and the counterfeit',\n",
       " '  Is poorly imitated after you;',\n",
       " \"  On Helen's cheek all art of beauty set,\",\n",
       " '  And you in Grecian tires are painted new:',\n",
       " '  Speak of the spring, and foison of the year,',\n",
       " '  The one doth shadow of your beauty show,',\n",
       " '  The other as your bounty doth appear;',\n",
       " '  And you in every blessed shape we know.',\n",
       " '    In all external grace you have some part,',\n",
       " '    But you like none, none you, for constant heart.',\n",
       " '  LIV',\n",
       " '  O! how much more doth beauty beauteous seem',\n",
       " '  By that sweet ornament which truth doth give.',\n",
       " '  The rose looks fair, but fairer we it deem',\n",
       " '  For that sweet odour, which doth in it live.',\n",
       " '  The canker blooms have full as deep a dye',\n",
       " '  As the perfumed tincture of the roses.',\n",
       " '  Hang on such thorns, and play as wantonly',\n",
       " \"  When summer's breath their masked buds discloses:\",\n",
       " '  But, for their virtue only is their show,',\n",
       " \"  They live unwoo'd, and unrespected fade;\",\n",
       " '  Die to themselves. Sweet roses do not so;',\n",
       " '  Of their sweet deaths, are sweetest odours made:',\n",
       " '    And so of you, beauteous and lovely youth,',\n",
       " '    When that shall vade, by verse distills your truth.',\n",
       " '  LV',\n",
       " '  Not marble, nor the gilded monuments',\n",
       " '  Of princes, shall outlive this powerful rhyme;',\n",
       " '  But you shall shine more bright in these contents',\n",
       " \"  Than unswept stone, besmear'd with sluttish time.\",\n",
       " '  When wasteful war shall statues overturn,',\n",
       " '  And broils root out the work of masonry,',\n",
       " \"  Nor Mars his sword, nor war's quick fire shall burn\",\n",
       " '  The living record of your memory.',\n",
       " \"  'Gainst death, and all-oblivious enmity\",\n",
       " '  Shall you pace forth; your praise shall still find room',\n",
       " '  Even in the eyes of all posterity',\n",
       " '  That wear this world out to the ending doom.',\n",
       " '    So, till the judgment that yourself arise,',\n",
       " \"    You live in this, and dwell in lovers' eyes.\",\n",
       " '  LVI',\n",
       " '  Sweet love, renew thy force; be it not said',\n",
       " '  Thy edge should blunter be than appetite,',\n",
       " \"  Which but to-day by feeding is allay'd,\",\n",
       " '  To-morrow sharpened in his former might:',\n",
       " '  So, love, be thou, although to-day thou fill',\n",
       " '  Thy hungry eyes, even till they wink with fulness,',\n",
       " '  To-morrow see again, and do not kill',\n",
       " '  The spirit of love, with a perpetual dulness.',\n",
       " '  Let this sad interim like the ocean be',\n",
       " '  Which parts the shore, where two contracted new',\n",
       " '  Come daily to the banks, that when they see',\n",
       " '  Return of love, more blest may be the view;',\n",
       " '    Or call it winter, which being full of care,',\n",
       " \"    Makes summer's welcome, thrice more wished, more rare.\",\n",
       " '  LVII',\n",
       " '  Being your slave what should I do but tend,',\n",
       " '  Upon the hours, and times of your desire?',\n",
       " '  I have no precious time at all to spend;',\n",
       " '  Nor services to do, till you require.',\n",
       " '  Nor dare I chide the world-without-end hour,',\n",
       " '  Whilst I, my sovereign, watch the clock for you,',\n",
       " '  Nor think the bitterness of absence sour,',\n",
       " '  When you have bid your servant once adieu;',\n",
       " '  Nor dare I question with my jealous thought',\n",
       " '  Where you may be, or your affairs suppose,',\n",
       " '  But, like a sad slave, stay and think of nought',\n",
       " '  Save, where you are, how happy you make those.',\n",
       " '    So true a fool is love, that in your will,',\n",
       " '    Though you do anything, he thinks no ill.',\n",
       " '  LVIII',\n",
       " '  That god forbid, that made me first your slave,',\n",
       " '  I should in thought control your times of pleasure,',\n",
       " '  Or at your hand the account of hours to crave,',\n",
       " '  Being your vassal, bound to stay your leisure!',\n",
       " '  O! let me suffer, being at your beck,',\n",
       " \"  The imprison'd absence of your liberty;\",\n",
       " '  And patience, tame to sufferance, bide each check,',\n",
       " '  Without accusing you of injury.',\n",
       " '  Be where you list, your charter is so strong',\n",
       " '  That you yourself may privilage your time',\n",
       " '  To what you will; to you it doth belong',\n",
       " '  Yourself to pardon of self-doing crime.',\n",
       " '    I am to wait, though waiting so be hell,',\n",
       " '    Not blame your pleasure be it ill or well.',\n",
       " '  LIX',\n",
       " '  If there be nothing new, but that which is',\n",
       " \"  Hath been before, how are our brains beguil'd,\",\n",
       " '  Which labouring for invention bear amiss',\n",
       " '  The second burthen of a former child!',\n",
       " '  O! that record could with a backward look,',\n",
       " '  Even of five hundred courses of the sun,',\n",
       " '  Show me your image in some antique book,',\n",
       " '  Since mind at first in character was done!',\n",
       " '  That I might see what the old world could say',\n",
       " '  To this composed wonder of your frame;',\n",
       " \"  Wh'r we are mended, or wh'r better they,\",\n",
       " '  Or whether revolution be the same.',\n",
       " '    O! sure I am the wits of former days,',\n",
       " '    To subjects worse have given admiring praise.',\n",
       " '  LX',\n",
       " '  Like as the waves make towards the pebbled shore,',\n",
       " '  So do our minutes hasten to their end;',\n",
       " '  Each changing place with that which goes before,',\n",
       " '  In sequent toil all forwards do contend.',\n",
       " '  Nativity, once in the main of light,',\n",
       " \"  Crawls to maturity, wherewith being crown'd,\",\n",
       " \"  Crooked eclipses 'gainst his glory fight,\",\n",
       " '  And Time that gave doth now his gift confound.',\n",
       " '  Time doth transfix the flourish set on youth',\n",
       " \"  And delves the parallels in beauty's brow,\",\n",
       " \"  Feeds on the rarities of nature's truth,\",\n",
       " '  And nothing stands but for his scythe to mow:',\n",
       " '    And yet to times in hope, my verse shall stand.',\n",
       " '    Praising thy worth, despite his cruel hand.',\n",
       " '  LXI',\n",
       " '  Is it thy will, thy image should keep open',\n",
       " '  My heavy eyelids to the weary night?',\n",
       " '  Dost thou desire my slumbers should be broken,',\n",
       " '  While shadows like to thee do mock my sight?',\n",
       " \"  Is it thy spirit that thou send'st from thee\",\n",
       " '  So far from home into my deeds to pry,',\n",
       " '  To find out shames and idle hours in me,',\n",
       " '  The scope and tenure of thy jealousy?',\n",
       " '  O, no! thy love, though much, is not so great:',\n",
       " '  It is my love that keeps mine eye awake:',\n",
       " '  Mine own true love that doth my rest defeat,',\n",
       " '  To play the watchman ever for thy sake:',\n",
       " '    For thee watch I, whilst thou dost wake elsewhere,',\n",
       " '    From me far off, with others all too near.',\n",
       " '  LXII',\n",
       " '  Sin of self-love possesseth all mine eye',\n",
       " '  And all my soul, and all my every part;',\n",
       " '  And for this sin there is no remedy,',\n",
       " '  It is so grounded inward in my heart.',\n",
       " '  Methinks no face so gracious is as mine,',\n",
       " '  No shape so true, no truth of such account;',\n",
       " '  And for myself mine own worth do define,',\n",
       " '  As I all other in all worths surmount.',\n",
       " '  But when my glass shows me myself indeed',\n",
       " \"  Beated and chopp'd with tanned antiquity,\",\n",
       " '  Mine own self-love quite contrary I read;',\n",
       " '  Self so self-loving were iniquity.',\n",
       " \"    'Tis thee,--myself,--that for myself I praise,\",\n",
       " '    Painting my age with beauty of thy days.',\n",
       " '  LXIII',\n",
       " '  Against my love shall be as I am now,',\n",
       " \"  With Time's injurious hand crush'd and o'erworn;\",\n",
       " \"  When hours have drain'd his blood and fill'd his brow\",\n",
       " '  With lines and wrinkles; when his youthful morn',\n",
       " \"  Hath travell'd on to age's steepy night;\",\n",
       " \"  And all those beauties whereof now he's king\",\n",
       " '  Are vanishing, or vanished out of sight,',\n",
       " '  Stealing away the treasure of his spring;',\n",
       " '  For such a time do I now fortify',\n",
       " \"  Against confounding age's cruel knife,\",\n",
       " '  That he shall never cut from memory',\n",
       " \"  My sweet love's beauty, though my lover's life:\",\n",
       " '    His beauty shall in these black lines be seen,',\n",
       " '    And they shall live, and he in them still green.',\n",
       " '  LXIV',\n",
       " \"  When I have seen by Time's fell hand defac'd\",\n",
       " '  The rich-proud cost of outworn buried age;',\n",
       " \"  When sometime lofty towers I see down-raz'd,\",\n",
       " '  And brass eternal slave to mortal rage;',\n",
       " '  When I have seen the hungry ocean gain',\n",
       " '  Advantage on the kingdom of the shore,',\n",
       " '  And the firm soil win of the watery main,',\n",
       " '  Increasing store with loss, and loss with store;',\n",
       " '  When I have seen such interchange of state,',\n",
       " '  Or state itself confounded, to decay;',\n",
       " '  Ruin hath taught me thus to ruminate--',\n",
       " '  That Time will come and take my love away.',\n",
       " '    This thought is as a death which cannot choose',\n",
       " '    But weep to have, that which it fears to lose.',\n",
       " '  LXV',\n",
       " '  Since brass, nor stone, nor earth, nor boundless sea,',\n",
       " \"  But sad mortality o'ersways their power,\",\n",
       " '  How with this rage shall beauty hold a plea,',\n",
       " '  Whose action is no stronger than a flower?',\n",
       " \"  O! how shall summer's honey breath hold out,\",\n",
       " '  Against the wrackful siege of battering days,',\n",
       " '  When rocks impregnable are not so stout,',\n",
       " '  Nor gates of steel so strong but Time decays?',\n",
       " '  O fearful meditation! where, alack,',\n",
       " \"  Shall Time's best jewel from Time's chest lie hid?\",\n",
       " '  Or what strong hand can hold his swift foot back?',\n",
       " '  Or who his spoil of beauty can forbid?',\n",
       " '    O! none, unless this miracle have might,',\n",
       " '    That in black ink my love may still shine bright.',\n",
       " '  LXVI',\n",
       " '  Tired with all these, for restful death I cry,',\n",
       " '  As to behold desert a beggar born,',\n",
       " \"  And needy nothing trimm'd in jollity,\",\n",
       " '  And purest faith unhappily forsworn,',\n",
       " \"  And gilded honour shamefully misplac'd,\",\n",
       " '  And maiden virtue rudely strumpeted,',\n",
       " \"  And right perfection wrongfully disgrac'd,\",\n",
       " '  And strength by limping sway disabled',\n",
       " '  And art made tongue-tied by authority,',\n",
       " '  And folly--doctor-like--controlling skill,',\n",
       " \"  And simple truth miscall'd simplicity,\",\n",
       " '  And captive good attending captain ill:',\n",
       " \"    Tir'd with all these, from these would I be gone,\",\n",
       " '    Save that, to die, I leave my love alone.',\n",
       " '  LXVII',\n",
       " '  Ah! wherefore with infection should he live,',\n",
       " '  And with his presence grace impiety,',\n",
       " '  That sin by him advantage should achieve,',\n",
       " '  And lace itself with his society?',\n",
       " '  Why should false painting imitate his cheek,',\n",
       " '  And steel dead seeming of his living hue?',\n",
       " '  Why should poor beauty indirectly seek',\n",
       " '  Roses of shadow, since his rose is true?',\n",
       " '  Why should he live, now Nature bankrupt is,',\n",
       " \"  Beggar'd of blood to blush through lively veins?\",\n",
       " '  For she hath no exchequer now but his,',\n",
       " '  And proud of many, lives upon his gains.',\n",
       " '    O! him she stores, to show what wealth she had',\n",
       " ...]"
      ]
     },
     "metadata": {},
     "execution_count": 11
    }
   ],
   "source": [
    "# ok - much better!\n",
    "# but we still need to remove all the punctuation and case normalize the text\n",
    "filtered_sonnets"
   ]
  },
  {
   "cell_type": "markdown",
   "metadata": {},
   "source": [
    "### Use custom data cleaning tool \n",
    "\n",
    "Use one of the methods in `data_cleaning_toolkit` to clean your data.\n",
    "\n",
    "There is an example of this in the guided project."
   ]
  },
  {
   "cell_type": "code",
   "execution_count": 12,
   "metadata": {
    "deletable": false,
    "nbgrader": {
     "cell_type": "code",
     "checksum": "a722083a29139936744ff9a341e1c9a3",
     "grade": false,
     "grade_id": "cell-775c14b456d8a724",
     "locked": false,
     "schema_version": 3,
     "solution": true,
     "task": false
    }
   },
   "outputs": [],
   "source": [
    "# instantiate the data_cleaning_toolkit class - save result to `dctk`\n",
    "\n",
    "# YOUR CODE HERE\n",
    "dctk = data_cleaning_toolkit()"
   ]
  },
  {
   "cell_type": "code",
   "execution_count": 16,
   "metadata": {
    "deletable": false,
    "nbgrader": {
     "cell_type": "code",
     "checksum": "ab91e612cd08068f3a36172979157d5d",
     "grade": false,
     "grade_id": "cell-684010b6a7360876",
     "locked": false,
     "schema_version": 3,
     "solution": true,
     "task": false
    }
   },
   "outputs": [],
   "source": [
    "# use data_cleaning_toolkit to remove punctuation and to case normalize - save results to `clean_sonnets`\n",
    "\n",
    "# YOUR CODE HERE\n",
    "map_obj = map(dctk.clean_data,filtered_sonnets)\n",
    "clean_sonnets = list(map_obj)"
   ]
  },
  {
   "cell_type": "code",
   "execution_count": 17,
   "metadata": {},
   "outputs": [
    {
     "output_type": "execute_result",
     "data": {
      "text/plain": [
       "made lame by fortunes dearest spite',\n",
       " 'take all my comfort of thy worth and truth',\n",
       " 'for whether beauty birth or wealth or wit',\n",
       " 'or any of these all or all or more',\n",
       " 'entitled in thy parts do crowned sit',\n",
       " 'i make my love engrafted to this store',\n",
       " 'so then i am not lame poor nor despisd',\n",
       " 'whilst that this shadow doth such substance give',\n",
       " 'that i in thy abundance am sufficd',\n",
       " 'and by a part of all thy glory live',\n",
       " 'look what is best that best i wish in thee',\n",
       " 'this wish i have then ten times happy me',\n",
       " 'xxxviii',\n",
       " 'how can my muse want subject to invent',\n",
       " 'while thou dost breathe that pourst into my verse',\n",
       " 'thine own sweet argument too excellent',\n",
       " 'for every vulgar paper to rehearse',\n",
       " 'o give thy self the thanks if aught in me',\n",
       " 'worthy perusal stand against thy sight',\n",
       " 'for whos so dumb that cannot write to thee',\n",
       " 'when thou thy self dost give invention light',\n",
       " 'be thou the tenth muse ten times more in worth',\n",
       " 'than those old nine which rhymers invocate',\n",
       " 'and he that calls on thee let him bring forth',\n",
       " 'eternal numbers to outlive long date',\n",
       " 'if my slight muse do please these curious days',\n",
       " 'the pain be mine but thine shall be the praise',\n",
       " 'xxxix',\n",
       " 'o how thy worth with manners may i sing',\n",
       " 'when thou art all the better part of me',\n",
       " 'what can mine own praise to mine own self bring',\n",
       " 'and what ist but mine own when i praise thee',\n",
       " 'even for this let us divided live',\n",
       " 'and our dear love lose name of single one',\n",
       " 'that by this separation i may give',\n",
       " 'that due to thee which thou deservst alone',\n",
       " 'o absence what a torment wouldst thou prove',\n",
       " 'were it not thy sour leisure gave sweet leave',\n",
       " 'to entertain the time with thoughts of love',\n",
       " 'which time and thoughts so sweetly doth deceive',\n",
       " 'and that thou teachest how to make one twain',\n",
       " 'by praising him here who doth hence remain',\n",
       " 'xl',\n",
       " 'take all my loves my love yea take them all',\n",
       " 'what hast thou then more than thou hadst before',\n",
       " 'no love my love that thou mayst true love call',\n",
       " 'all mine was thine before thou hadst this more',\n",
       " 'then if for my love thou my love receivest',\n",
       " 'i cannot blame thee for my love thou usest',\n",
       " 'but yet be blamd if thou thy self deceivest',\n",
       " 'by wilful taste of what thyself refusest',\n",
       " 'i do forgive thy robbery gentle thief',\n",
       " 'although thou steal thee all my poverty',\n",
       " 'and yet love knows it is a greater grief',\n",
       " 'to bear loves wrong than hates known injury',\n",
       " 'lascivious grace in whom all ill well shows',\n",
       " 'kill me with spites yet we must not be foes',\n",
       " 'xli',\n",
       " 'those pretty wrongs that liberty commits',\n",
       " 'when i am sometime absent from thy heart',\n",
       " 'thy beauty and thy years full well befits',\n",
       " 'for still temptation follows where thou art',\n",
       " 'gentle thou art and therefore to be won',\n",
       " 'beauteous thou art therefore to be assaild',\n",
       " 'and when a woman woos what womans son',\n",
       " 'will sourly leave her till he have prevaild',\n",
       " 'ay me but yet thou mightst my seat forbear',\n",
       " 'and chide thy beauty and thy straying youth',\n",
       " 'who lead thee in their riot even there',\n",
       " 'where thou art forced to break a twofold truth',\n",
       " 'hers by thy beauty tempting her to thee',\n",
       " 'thine by thy beauty being false to me',\n",
       " 'xlii',\n",
       " 'that thou hast her it is not all my grief',\n",
       " 'and yet it may be said i loved her dearly',\n",
       " 'that she hath thee is of my wailing chief',\n",
       " 'a loss in love that touches me more nearly',\n",
       " 'loving offenders thus i will excuse ye',\n",
       " 'thou dost love her because thou knowst i love her',\n",
       " 'and for my sake even so doth she abuse me',\n",
       " 'suffering my friend for my sake to approve her',\n",
       " 'if i lose thee my loss is my loves gain',\n",
       " 'and losing her my friend hath found that loss',\n",
       " 'both find each other and i lose both twain',\n",
       " 'and both for my sake lay on me this cross',\n",
       " 'but heres the joy my friend and i are one',\n",
       " 'sweet flattery then she loves but me alone',\n",
       " 'xliii',\n",
       " 'when most i wink then do mine eyes best see',\n",
       " 'for all the day they view things unrespected',\n",
       " 'but when i sleep in dreams they look on thee',\n",
       " 'and darkly bright are bright in dark directed',\n",
       " 'then thou whose shadow shadows doth make bright',\n",
       " 'how would thy shadows form form happy show',\n",
       " 'to the clear day with thy much clearer light',\n",
       " 'when to unseeing eyes thy shade shines so',\n",
       " 'how would i say mine eyes be blessed made',\n",
       " 'by looking on thee in the living day',\n",
       " 'when in dead night thy fair imperfect shade',\n",
       " 'through heavy sleep on sightless eyes doth stay',\n",
       " 'all days are nights to see till i see thee',\n",
       " 'and nights bright days when dreams do show thee me',\n",
       " 'xliv',\n",
       " 'if the dull substance of my flesh were thought',\n",
       " 'injurious distance should not stop my way',\n",
       " 'for then despite of space i would be brought',\n",
       " 'from limits far remote where thou dost stay',\n",
       " 'no matter then although my foot did stand',\n",
       " 'upon the farthest earth removd from thee',\n",
       " 'for nimble thought can jump both sea and land',\n",
       " 'as soon as think the place where he would be',\n",
       " 'but ah thought kills me that i am not thought',\n",
       " 'to leap large lengths of miles when thou art gone',\n",
       " 'but that so much of earth and water wrought',\n",
       " 'i must attend times leisure with my moan',\n",
       " 'receiving nought by elements so slow',\n",
       " 'but heavy tears badges of eithers woe',\n",
       " 'xlv',\n",
       " 'the other two slight air and purging fire',\n",
       " 'are both with thee wherever i abide',\n",
       " 'the first my thought the other my desire',\n",
       " 'these presentabsent with swift motion slide',\n",
       " 'for when these quicker elements are gone',\n",
       " 'in tender embassy of love to thee',\n",
       " 'my life being made of four with two alone',\n",
       " 'sinks down to death oppressd with melancholy',\n",
       " 'until lifes composition be recurd',\n",
       " 'by those swift messengers returnd from thee',\n",
       " 'who even but now come back again assurd',\n",
       " 'of thy fair health recounting it to me',\n",
       " 'this told i joy but then no longer glad',\n",
       " 'i send them back again and straight grow sad',\n",
       " 'xlvi',\n",
       " 'mine eye and heart are at a mortal war',\n",
       " 'how to divide the conquest of thy sight',\n",
       " 'mine eye my heart thy pictures sight would bar',\n",
       " 'my heart mine eye the freedom of that right',\n",
       " 'my heart doth plead that thou in him dost lie',\n",
       " 'a closet never piercd with crystal eyes',\n",
       " 'but the defendant doth that plea deny',\n",
       " 'and says in him thy fair appearance lies',\n",
       " 'to side this title is impannelled',\n",
       " 'a quest of thoughts all tenants to the heart',\n",
       " 'and by their verdict is determined',\n",
       " 'the clear eyes moiety and the dear hearts part',\n",
       " 'as thus mine eyes due is thy outward part',\n",
       " 'and my hearts right thy inward love of heart',\n",
       " 'xlvii',\n",
       " 'betwixt mine eye and heart a league is took',\n",
       " 'and each doth good turns now unto the other',\n",
       " 'when that mine eye is famishd for a look',\n",
       " 'or heart in love with sighs himself doth smother',\n",
       " 'with my loves picture then my eye doth feast',\n",
       " 'and to the painted banquet bids my heart',\n",
       " 'another time mine eye is my hearts guest',\n",
       " 'and in his thoughts of love doth share a part',\n",
       " 'so either by thy picture or my love',\n",
       " 'thy self away art present still with me',\n",
       " 'for thou not farther than my thoughts canst move',\n",
       " 'and i am still with them and they with thee',\n",
       " 'or if they sleep thy picture in my sight',\n",
       " 'awakes my heart to hearts and eyes delight',\n",
       " 'xlviii',\n",
       " 'how careful was i when i took my way',\n",
       " 'each trifle under truest bars to thrust',\n",
       " 'that to my use it might unused stay',\n",
       " 'from hands of falsehood in sure wards of trust',\n",
       " 'but thou to whom my jewels trifles are',\n",
       " 'most worthy comfort now my greatest grief',\n",
       " 'thou best of dearest and mine only care',\n",
       " 'art left the prey of every vulgar thief',\n",
       " 'thee have i not lockd up in any chest',\n",
       " 'save where thou art not though i feel thou art',\n",
       " 'within the gentle closure of my breast',\n",
       " 'from whence at pleasure thou mayst come and part',\n",
       " 'and even thence thou wilt be stoln i fear',\n",
       " 'for truth proves thievish for a prize so dear',\n",
       " 'xlix',\n",
       " 'against that time if ever that time come',\n",
       " 'when i shall see thee frown on my defects',\n",
       " 'when as thy love hath cast his utmost sum',\n",
       " 'calld to that audit by advisd respects',\n",
       " 'against that time when thou shalt strangely pass',\n",
       " 'and scarcely greet me with that sun thine eye',\n",
       " 'when love converted from the thing it was',\n",
       " 'shall reasons find of settled gravity',\n",
       " 'against that time do i ensconce me here',\n",
       " 'within the knowledge of mine own desert',\n",
       " 'and this my hand against my self uprear',\n",
       " 'to guard the lawful reasons on thy part',\n",
       " 'to leave poor me thou hast the strength of laws',\n",
       " 'since why to love i can allege no cause',\n",
       " 'how heavy do i journey on the way',\n",
       " 'when what i seek my weary travels end',\n",
       " 'doth teach that ease and that repose to say',\n",
       " 'thus far the miles are measured from thy friend',\n",
       " 'the beast that bears me tired with my woe',\n",
       " 'plods dully on to bear that weight in me',\n",
       " 'as if by some instinct the wretch did know',\n",
       " 'his rider lovd not speed being made from thee',\n",
       " 'the bloody spur cannot provoke him on',\n",
       " 'that sometimes anger thrusts into his hide',\n",
       " 'which heavily he answers with a groan',\n",
       " 'more sharp to me than spurring to his side',\n",
       " 'for that same groan doth put this in my mind',\n",
       " 'my grief lies onward and my joy behind',\n",
       " 'li',\n",
       " 'thus can my love excuse the slow offence',\n",
       " 'of my dull bearer when from thee i speed',\n",
       " 'from where thou art why should i haste me thence',\n",
       " 'till i return of posting is no need',\n",
       " 'o what excuse will my poor beast then find',\n",
       " 'when swift extremity can seem but slow',\n",
       " 'then should i spur though mounted on the wind',\n",
       " 'in winged speed no motion shall i know',\n",
       " 'then can no horse with my desire keep pace',\n",
       " 'therefore desire of perfectst love being made',\n",
       " 'shall neighno dull fleshin his fiery race',\n",
       " 'but love for love thus shall excuse my jade',\n",
       " 'since from thee going he went wilfulslow',\n",
       " 'towards thee ill run and give him leave to go',\n",
       " 'lii',\n",
       " 'so am i as the rich whose blessed key',\n",
       " 'can bring him to his sweet uplocked treasure',\n",
       " 'the which he will not every hour survey',\n",
       " 'for blunting the fine point of seldom pleasure',\n",
       " 'therefore are feasts so solemn and so rare',\n",
       " 'since seldom coming in that long year set',\n",
       " 'like stones of worth they thinly placed are',\n",
       " 'or captain jewels in the carcanet',\n",
       " 'so is the time that keeps you as my chest',\n",
       " 'or as the wardrobe which the robe doth hide',\n",
       " 'to make some special instant specialblest',\n",
       " 'by new unfolding his imprisond pride',\n",
       " 'blessed are you whose worthiness gives scope',\n",
       " 'being had to triumph being lacked to hope',\n",
       " 'liii',\n",
       " 'what is your substance whereof are you made',\n",
       " 'that millions of strange shadows on you tend',\n",
       " 'since every one hath every one one shade',\n",
       " 'and you but one can every shadow lend',\n",
       " 'describe adonis and the counterfeit',\n",
       " 'is poorly imitated after you',\n",
       " 'on helens cheek all art of beauty set',\n",
       " 'and you in grecian tires are painted new',\n",
       " 'speak of the spring and foison of the year',\n",
       " 'the one doth shadow of your beauty show',\n",
       " 'the other as your bounty doth appear',\n",
       " 'and you in every blessed shape we know',\n",
       " 'in all external grace you have some part',\n",
       " 'but you like none none you for constant heart',\n",
       " 'liv',\n",
       " 'o how much more doth beauty beauteous seem',\n",
       " 'by that sweet ornament which truth doth give',\n",
       " 'the rose looks fair but fairer we it deem',\n",
       " 'for that sweet odour which doth in it live',\n",
       " 'the canker blooms have full as deep a dye',\n",
       " 'as the perfumed tincture of the roses',\n",
       " 'hang on such thorns and play as wantonly',\n",
       " 'when summers breath their masked buds discloses',\n",
       " 'but for their virtue only is their show',\n",
       " 'they live unwood and unrespected fade',\n",
       " 'die to themselves sweet roses do not so',\n",
       " 'of their sweet deaths are sweetest odours made',\n",
       " 'and so of you beauteous and lovely youth',\n",
       " 'when that shall vade by verse distills your truth',\n",
       " 'lv',\n",
       " 'not marble nor the gilded monuments',\n",
       " 'of princes shall outlive this powerful rhyme',\n",
       " 'but you shall shine more bright in these contents',\n",
       " 'than unswept stone besmeard with sluttish time',\n",
       " 'when wasteful war shall statues overturn',\n",
       " 'and broils root out the work of masonry',\n",
       " 'nor mars his sword nor wars quick fire shall burn',\n",
       " 'the living record of your memory',\n",
       " 'gainst death and alloblivious enmity',\n",
       " 'shall you pace forth your praise shall still find room',\n",
       " 'even in the eyes of all posterity',\n",
       " 'that wear this world out to the ending doom',\n",
       " 'so till the judgment that yourself arise',\n",
       " 'you live in this and dwell in lovers eyes',\n",
       " 'lvi',\n",
       " 'sweet love renew thy force be it not said',\n",
       " 'thy edge should blunter be than appetite',\n",
       " 'which but today by feeding is allayd',\n",
       " 'tomorrow sharpened in his former might',\n",
       " 'so love be thou although today thou fill',\n",
       " 'thy hungry eyes even till they wink with fulness',\n",
       " 'tomorrow see again and do not kill',\n",
       " 'the spirit of love with a perpetual dulness',\n",
       " 'let this sad interim like the ocean be',\n",
       " 'which parts the shore where two contracted new',\n",
       " 'come daily to the banks that when they see',\n",
       " 'return of love more blest may be the view',\n",
       " 'or call it winter which being full of care',\n",
       " 'makes summers welcome thrice more wished more rare',\n",
       " 'lvii',\n",
       " 'being your slave what should i do but tend',\n",
       " 'upon the hours and times of your desire',\n",
       " 'i have no precious time at all to spend',\n",
       " 'nor services to do till you require',\n",
       " 'nor dare i chide the worldwithoutend hour',\n",
       " 'whilst i my sovereign watch the clock for you',\n",
       " 'nor think the bitterness of absence sour',\n",
       " 'when you have bid your servant once adieu',\n",
       " 'nor dare i question with my jealous thought',\n",
       " 'where you may be or your affairs suppose',\n",
       " 'but like a sad slave stay and think of nought',\n",
       " 'save where you are how happy you make those',\n",
       " 'so true a fool is love that in your will',\n",
       " 'though you do anything he thinks no ill',\n",
       " 'lviii',\n",
       " 'that god forbid that made me first your slave',\n",
       " 'i should in thought control your times of pleasure',\n",
       " 'or at your hand the account of hours to crave',\n",
       " 'being your vassal bound to stay your leisure',\n",
       " 'o let me suffer being at your beck',\n",
       " 'the imprisond absence of your liberty',\n",
       " 'and patience tame to sufferance bide each check',\n",
       " 'without accusing you of injury',\n",
       " 'be where you list your charter is so strong',\n",
       " 'that you yourself may privilage your time',\n",
       " 'to what you will to you it doth belong',\n",
       " 'yourself to pardon of selfdoing crime',\n",
       " 'i am to wait though waiting so be hell',\n",
       " 'not blame your pleasure be it ill or well',\n",
       " 'lix',\n",
       " 'if there be nothing new but that which is',\n",
       " 'hath been before how are our brains beguild',\n",
       " 'which labouring for invention bear amiss',\n",
       " 'the second burthen of a former child',\n",
       " 'o that record could with a backward look',\n",
       " 'even of five hundred courses of the sun',\n",
       " 'show me your image in some antique book',\n",
       " 'since mind at first in character was done',\n",
       " 'that i might see what the old world could say',\n",
       " 'to this composed wonder of your frame',\n",
       " 'whr we are mended or whr better they',\n",
       " 'or whether revolution be the same',\n",
       " 'o sure i am the wits of former days',\n",
       " 'to subjects worse have given admiring praise',\n",
       " 'lx',\n",
       " 'like as the waves make towards the pebbled shore',\n",
       " 'so do our minutes hasten to their end',\n",
       " 'each changing place with that which goes before',\n",
       " 'in sequent toil all forwards do contend',\n",
       " 'nativity once in the main of light',\n",
       " 'crawls to maturity wherewith being crownd',\n",
       " 'crooked eclipses gainst his glory fight',\n",
       " 'and time that gave doth now his gift confound',\n",
       " 'time doth transfix the flourish set on youth',\n",
       " 'and delves the parallels in beautys brow',\n",
       " 'feeds on the rarities of natures truth',\n",
       " 'and nothing stands but for his scythe to mow',\n",
       " 'and yet to times in hope my verse shall stand',\n",
       " 'praising thy worth despite his cruel hand',\n",
       " 'lxi',\n",
       " 'is it thy will thy image should keep open',\n",
       " 'my heavy eyelids to the weary night',\n",
       " 'dost thou desire my slumbers should be broken',\n",
       " 'while shadows like to thee do mock my sight',\n",
       " 'is it thy spirit that thou sendst from thee',\n",
       " 'so far from home into my deeds to pry',\n",
       " 'to find out shames and idle hours in me',\n",
       " 'the scope and tenure of thy jealousy',\n",
       " 'o no thy love though much is not so great',\n",
       " 'it is my love that keeps mine eye awake',\n",
       " 'mine own true love that doth my rest defeat',\n",
       " 'to play the watchman ever for thy sake',\n",
       " 'for thee watch i whilst thou dost wake elsewhere',\n",
       " 'from me far off with others all too near',\n",
       " 'lxii',\n",
       " 'sin of selflove possesseth all mine eye',\n",
       " 'and all my soul and all my every part',\n",
       " 'and for this sin there is no remedy',\n",
       " 'it is so grounded inward in my heart',\n",
       " 'methinks no face so gracious is as mine',\n",
       " 'no shape so true no truth of such account',\n",
       " 'and for myself mine own worth do define',\n",
       " 'as i all other in all worths surmount',\n",
       " 'but when my glass shows me myself indeed',\n",
       " 'beated and choppd with tanned antiquity',\n",
       " 'mine own selflove quite contrary i read',\n",
       " 'self so selfloving were iniquity',\n",
       " 'tis theemyselfthat for myself i praise',\n",
       " 'painting my age with beauty of thy days',\n",
       " 'lxiii',\n",
       " 'against my love shall be as i am now',\n",
       " 'with times injurious hand crushd and oerworn',\n",
       " 'when hours have draind his blood and filld his brow',\n",
       " 'with lines and wrinkles when his youthful morn',\n",
       " 'hath travelld on to ages steepy night',\n",
       " 'and all those beauties whereof now hes king',\n",
       " 'are vanishing or vanished out of sight',\n",
       " 'stealing away the treasure of his spring',\n",
       " 'for such a time do i now fortify',\n",
       " 'against confounding ages cruel knife',\n",
       " 'that he shall never cut from memory',\n",
       " 'my sweet loves beauty though my lovers life',\n",
       " 'his beauty shall in these black lines be seen',\n",
       " 'and they shall live and he in them still green',\n",
       " 'lxiv',\n",
       " 'when i have seen by times fell hand defacd',\n",
       " 'the richproud cost of outworn buried age',\n",
       " 'when sometime lofty towers i see downrazd',\n",
       " 'and brass eternal slave to mortal rage',\n",
       " 'when i have seen the hungry ocean gain',\n",
       " 'advantage on the kingdom of the shore',\n",
       " 'and the firm soil win of the watery main',\n",
       " 'increasing store with loss and loss with store',\n",
       " 'when i have seen such interchange of state',\n",
       " 'or state itself confounded to decay',\n",
       " 'ruin hath taught me thus to ruminate',\n",
       " 'that time will come and take my love away',\n",
       " 'this thought is as a death which cannot choose',\n",
       " 'but weep to have that which it fears to lose',\n",
       " 'lxv',\n",
       " 'since brass nor stone nor earth nor boundless sea',\n",
       " 'but sad mortality oersways their power',\n",
       " 'how with this rage shall beauty hold a plea',\n",
       " 'whose action is no stronger than a flower',\n",
       " 'o how shall summers honey breath hold out',\n",
       " 'against the wrackful siege of battering days',\n",
       " 'when rocks impregnable are not so stout',\n",
       " 'nor gates of steel so strong but time decays',\n",
       " 'o fearful meditation where alack',\n",
       " 'shall times best jewel from times chest lie hid',\n",
       " 'or what strong hand can hold his swift foot back',\n",
       " 'or who his spoil of beauty can forbid',\n",
       " 'o none unless this miracle have might',\n",
       " 'that in black ink my love may still shine bright',\n",
       " 'lxvi',\n",
       " 'tired with all these for restful death i cry',\n",
       " 'as to behold desert a beggar born',\n",
       " 'and needy nothing trimmd in jollity',\n",
       " 'and purest faith unhappily forsworn',\n",
       " 'and gilded honour shamefully misplacd',\n",
       " 'and maiden virtue rudely strumpeted',\n",
       " 'and right perfection wrongfully disgracd',\n",
       " 'and strength by limping sway disabled',\n",
       " 'and art made tonguetied by authority',\n",
       " 'and follydoctorlikecontrolling skill',\n",
       " 'and simple truth miscalld simplicity',\n",
       " 'and captive good attending captain ill',\n",
       " 'tird with all these from these would i be gone',\n",
       " 'save that to die i leave my love alone',\n",
       " 'lxvii',\n",
       " 'ah wherefore with infection should he live',\n",
       " 'and with his presence grace impiety',\n",
       " 'that sin by him advantage should achieve',\n",
       " 'and lace itself with his society',\n",
       " 'why should false painting imitate his cheek',\n",
       " 'and steel dead seeming of his living hue',\n",
       " 'why should poor beauty indirectly seek',\n",
       " 'roses of shadow since his rose is true',\n",
       " 'why should he live now nature bankrupt is',\n",
       " 'beggard of blood to blush through lively veins',\n",
       " 'for she hath no exchequer now but his',\n",
       " 'and proud of many lives upon his gains',\n",
       " 'o him she stores to show what wealth she had',\n",
       " ...]"
      ]
     },
     "metadata": {},
     "execution_count": 17
    }
   ],
   "source": [
    "# much better!\n",
    "clean_sonnets"
   ]
  },
  {
   "cell_type": "markdown",
   "metadata": {},
   "source": [
    "### Use your data tool to create character sequences \n",
    "\n",
    "We'll need the `create_char_sequenes` method for this task. However this method requires a parameter call `maxlen` which is responsible for setting the maximum sequence length. \n",
    "\n",
    "So what would be a good sequence length, exactly? \n",
    "\n",
    "In order to answer that question, let's do some statistics! "
   ]
  },
  {
   "cell_type": "code",
   "execution_count": 23,
   "metadata": {
    "deletable": false,
    "nbgrader": {
     "cell_type": "code",
     "checksum": "1deebea2ada0a7dc7d2eb08295ee1e2b",
     "grade": false,
     "grade_id": "cell-9ebdaa2654dd29ab",
     "locked": false,
     "schema_version": 3,
     "solution": true,
     "task": false
    }
   },
   "outputs": [],
   "source": [
    "def calc_stats(corpus):\n",
    "    \"\"\"\n",
    "    Calculates statisics on the length of every line in the sonnets\n",
    "    \"\"\"\n",
    "    \n",
    "    # write a list comprehension that calculates each sonnets line length - save the results to `doc_lens` \n",
    "\n",
    "    # use numpy to calcualte and return the mean, median, std, max, min of the doc lens - all in one line of code\n",
    "\n",
    "    # YOUR CODE HERE\n",
    "    doc_lens = [len(x) for x in corpus]\n",
    "    return np.mean(doc_lens),np.median(doc_lens),np.std(doc_lens),np.max(doc_lens),np.min(doc_lens)"
   ]
  },
  {
   "cell_type": "code",
   "execution_count": 24,
   "metadata": {},
   "outputs": [
    {
     "output_type": "execute_result",
     "data": {
      "text/plain": [
       "(40.795078815840064, 41.0, 12.318029986507494, 72, 1)"
      ]
     },
     "metadata": {},
     "execution_count": 24
    }
   ],
   "source": [
    "# sonnet line length statistics \n",
    "mean ,med, std, max_, min_ = calc_stats(clean_sonnets)\n",
    "mean, med, std, max_, min_ "
   ]
  },
  {
   "cell_type": "code",
   "execution_count": 26,
   "metadata": {
    "deletable": false,
    "nbgrader": {
     "cell_type": "code",
     "checksum": "690957e46b6f2f32c1f17756d8ceab5b",
     "grade": false,
     "grade_id": "cell-35185e26897aad7e",
     "locked": false,
     "schema_version": 3,
     "solution": true,
     "task": false
    }
   },
   "outputs": [
    {
     "output_type": "stream",
     "name": "stdout",
     "text": [
      "sequences:  21734\n"
     ]
    }
   ],
   "source": [
    "# using the results of the sonnet line length statistics, use your judgement and select a value for maxlen\n",
    "# use .create_char_sequences() to create sequences\n",
    "\n",
    "# YOUR CODE HERE\n",
    "maxlen = med\n",
    "sequences = dctk.create_char_sequenes(data = clean_sonnets, maxlen= int(maxlen))\n"
   ]
  },
  {
   "cell_type": "markdown",
   "metadata": {},
   "source": [
    "Take a look at the `data_cleaning_toolkit_class.py` file. \n",
    "\n",
    "In the first 4 lines of code in the `create_char_sequences` method, class attributes `n_features` and `unique_chars` are created. Let's call them in the cells below."
   ]
  },
  {
   "cell_type": "code",
   "execution_count": 27,
   "metadata": {},
   "outputs": [
    {
     "output_type": "execute_result",
     "data": {
      "text/plain": [
       "27"
      ]
     },
     "metadata": {},
     "execution_count": 27
    }
   ],
   "source": [
    "# number of input features for our LSTM model\n",
    "dctk.n_features"
   ]
  },
  {
   "cell_type": "code",
   "execution_count": 30,
   "metadata": {},
   "outputs": [
    {
     "output_type": "execute_result",
     "data": {
      "text/plain": [
       "27"
      ]
     },
     "metadata": {},
     "execution_count": 30
    }
   ],
   "source": [
    "# unique charactes that appear in our sonnets \n",
    "#dctk.unique_chars\n",
    "len(dctk.chars)"
   ]
  },
  {
   "cell_type": "markdown",
   "metadata": {},
   "source": [
    "## Time for Questions \n",
    "\n",
    "----\n",
    "**Question 1:** \n",
    "\n",
    "Why are the `number of unique characters` (i.e. **dctk.unique_chars**) and the `number of model input features` (i.e. **dctk.n_features**) the same?\n",
    "\n",
    "**Hint:** The model that we will shortly be building here is very similar to the text generation model that we built in the guided project."
   ]
  },
  {
   "cell_type": "markdown",
   "metadata": {},
   "source": [
    "**Answer 1:**\n",
    "\n",
    "Write your answer here\n",
    "\n",
    "The number of unique characters is the number of model input features"
   ]
  },
  {
   "cell_type": "markdown",
   "metadata": {},
   "source": [
    "\n",
    "**Question 2:**\n",
    "\n",
    "Take a look at the print out of `dctk.unique_chars` one more time. Notice that there is a white space. \n",
    "\n",
    "Why is it desirable to have a white space as a possible character to predict?"
   ]
  },
  {
   "cell_type": "markdown",
   "metadata": {},
   "source": [
    "**Answer 2:**\n",
    "\n",
    "Write your answer here\n",
    "\n",
    "A space is desirable for the model to create/predict decipherable words"
   ]
  },
  {
   "cell_type": "markdown",
   "metadata": {},
   "source": [
    "----"
   ]
  },
  {
   "cell_type": "markdown",
   "metadata": {},
   "source": [
    "### Use our data tool to create X and Y splits\n",
    "\n",
    "You'll need the `create_X_and_Y` method for this task. "
   ]
  },
  {
   "cell_type": "code",
   "execution_count": 31,
   "metadata": {},
   "outputs": [],
   "source": [
    "# TODO: provide a walk through of data_cleaning_toolkit with unit tests that check for understanding \n",
    "X, y = dctk.create_X_and_Y()"
   ]
  },
  {
   "cell_type": "markdown",
   "metadata": {},
   "source": [
    "![](https://miro.medium.com/max/891/0*jGB1CGQ9HdeUwlgB)"
   ]
  },
  {
   "cell_type": "code",
   "execution_count": 32,
   "metadata": {},
   "outputs": [
    {
     "output_type": "execute_result",
     "data": {
      "text/plain": [
       "(21734, 41, 27)"
      ]
     },
     "metadata": {},
     "execution_count": 32
    }
   ],
   "source": [
    "# notice that our input matrix isn't actually a matrix - it's a rank 3 tensor\n",
    "X.shape"
   ]
  },
  {
   "cell_type": "markdown",
   "metadata": {},
   "source": [
    "In $X$.shape we see three numbers (*n1*, *n2*, *n3*). What do these numbers mean?\n",
    "\n",
    "Well, *n1* tells us the number of samples that we have. But what about the other two?"
   ]
  },
  {
   "cell_type": "code",
   "execution_count": 33,
   "metadata": {},
   "outputs": [
    {
     "output_type": "execute_result",
     "data": {
      "text/plain": [
       "array([[False, False, False, ..., False, False, False],\n",
       "       [False, False, False, ..., False, False, False],\n",
       "       [False, False, False, ..., False, False, False],\n",
       "       ...,\n",
       "       [False, False, False, ..., False, False, False],\n",
       "       [False,  True, False, ..., False, False, False],\n",
       "       [ True, False, False, ..., False, False, False]])"
      ]
     },
     "metadata": {},
     "execution_count": 33
    }
   ],
   "source": [
    "# first index returns a signle sample, which we can see is a sequence \n",
    "first_sample_index = 0 \n",
    "X[first_sample_index]"
   ]
  },
  {
   "cell_type": "markdown",
   "metadata": {},
   "source": [
    "Notice that each sequence (i.e. $X[i]$ where $i$ is some index value) is `maxlen` long and has `dctk.n_features` number of features. Let's try to better understand this shape. "
   ]
  },
  {
   "cell_type": "code",
   "execution_count": 34,
   "metadata": {},
   "outputs": [
    {
     "output_type": "execute_result",
     "data": {
      "text/plain": [
       "(41, 27)"
      ]
     },
     "metadata": {},
     "execution_count": 34
    }
   ],
   "source": [
    "# each sequence is maxlen long and has dctk.n_features number of features\n",
    "X[first_sample_index].shape"
   ]
  },
  {
   "cell_type": "markdown",
   "metadata": {},
   "source": [
    "**Each row corresponds to a character vector** and there are `maxlen` number of character vectors. \n",
    "\n",
    "**Each column corresponds to a unique character** and there are `dctk.n_features` number of features. \n"
   ]
  },
  {
   "cell_type": "code",
   "execution_count": 35,
   "metadata": {},
   "outputs": [
    {
     "output_type": "execute_result",
     "data": {
      "text/plain": [
       "array([False, False, False, False, False, False, False, False, False,\n",
       "       False, False, False, False, False, False, False, False, False,\n",
       "       False, False, False,  True, False, False, False, False, False])"
      ]
     },
     "metadata": {},
     "execution_count": 35
    }
   ],
   "source": [
    "# let's index for a single character vector \n",
    "first_char_vect_index = 0\n",
    "X[first_sample_index][first_char_vect_index]"
   ]
  },
  {
   "cell_type": "markdown",
   "metadata": {},
   "source": [
    "Notice that there is a single `TRUE` value and all the rest of the values are `FALSE`. \n",
    "\n",
    "This is a one-hot encoding for which character appears at each index within a sequence. Specifically, the cell above is looking at the first character in the sequence.\n",
    "\n",
    "Only a single character can appear as the first character in a sequence, so there will necessarily be a single `TRUE` value and the rest will be `FALSE`. \n",
    "\n",
    "Let's say that `TRUE` appears in the $ith$ index; by  $ith$ index we simply mean some index in the general case. How can we find out which character that actually corresponds to?\n",
    "\n",
    "To answer this question, we need to use the character-to-integer look up dictionaries. "
   ]
  },
  {
   "cell_type": "code",
   "execution_count": 36,
   "metadata": {},
   "outputs": [
    {
     "output_type": "execute_result",
     "data": {
      "text/plain": [
       "{0: 'e',\n",
       " 1: 's',\n",
       " 2: 'h',\n",
       " 3: 'd',\n",
       " 4: 'q',\n",
       " 5: 'v',\n",
       " 6: 'b',\n",
       " 7: 'i',\n",
       " 8: 'p',\n",
       " 9: 'u',\n",
       " 10: 'j',\n",
       " 11: ' ',\n",
       " 12: 'x',\n",
       " 13: 'o',\n",
       " 14: 'z',\n",
       " 15: 'g',\n",
       " 16: 'n',\n",
       " 17: 'y',\n",
       " 18: 'a',\n",
       " 19: 'w',\n",
       " 20: 'r',\n",
       " 21: 'f',\n",
       " 22: 'm',\n",
       " 23: 'c',\n",
       " 24: 't',\n",
       " 25: 'l',\n",
       " 26: 'k'}"
      ]
     },
     "metadata": {},
     "execution_count": 36
    }
   ],
   "source": [
    "# take a look at the index to character dictionary\n",
    "# if a TRUE appears in the 0th index of a character vector,\n",
    "# then we know that whatever char you see below next to the 0th key \n",
    "# is the character that that character vector is endcoding for\n",
    "dctk.int_char"
   ]
  },
  {
   "cell_type": "code",
   "execution_count": 37,
   "metadata": {},
   "outputs": [
    {
     "output_type": "stream",
     "name": "stdout",
     "text": [
      "f\nr\no\nm\n \nf\na\ni\nr\ne\ns\nt\n \nc\nr\ne\na\nt\nu\nr\ne\ns\n \nw\ne\n \nd\ne\ns\ni\nr\ne\n \ni\nn\nc\nr\ne\na\ns\ne\nSequence length: 41\n"
     ]
    }
   ],
   "source": [
    "# let's look at an example to tie it all together\n",
    "\n",
    "seq_len_counter = 0\n",
    "\n",
    "# index for a single sample \n",
    "for seq_of_char_vects in X[first_sample_index]:\n",
    "    \n",
    "    # get index with max value, which will be the one TRUE value \n",
    "    index_with_TRUE_val = np.argmax(seq_of_char_vects)\n",
    "    \n",
    "    print (dctk.int_char[index_with_TRUE_val])\n",
    "    \n",
    "    seq_len_counter+=1\n",
    "    \n",
    "print (\"Sequence length: {}\".format(seq_len_counter))"
   ]
  },
  {
   "cell_type": "markdown",
   "metadata": {},
   "source": [
    "## Time for Questions \n",
    "\n",
    "----\n",
    "**Question 1:** \n",
    "\n",
    "In your own words, how would you describe the numbers from the shape print out of `X.shape` to a fellow classmate?\n"
   ]
  },
  {
   "cell_type": "markdown",
   "metadata": {},
   "source": [
    "**Answer 1:**\n",
    "\n",
    "Write your answer here\n",
    "\n",
    "X.shape gives a 3D tuple -number of samples,rows,columns)\n",
    "- rows = to a character vector. Maxlen is the number of character vectors. in this case we chose the median to be the maxlength.\n",
    "- columns = to a unique character. All these unique characters are the number of features.\n",
    "\n"
   ]
  },
  {
   "cell_type": "markdown",
   "metadata": {},
   "source": [
    "----\n"
   ]
  },
  {
   "cell_type": "markdown",
   "metadata": {},
   "source": [
    "### Build a Text Generation model\n",
    "\n",
    "Now that we have prepped our data (and understood that process) let's finally build out our character generation model, similar to what we did in the guided project."
   ]
  },
  {
   "cell_type": "code",
   "execution_count": 38,
   "metadata": {},
   "outputs": [],
   "source": [
    "def sample(preds, temperature=1.0):\n",
    "    \"\"\"\n",
    "    Helper function to sample an index from a probability array\n",
    "    \"\"\"\n",
    "    # convert preds to array \n",
    "    preds = np.asarray(preds).astype('float64')\n",
    "    # scale values \n",
    "    preds = np.log(preds) / temperature\n",
    "    # exponentiate values\n",
    "    exp_preds = np.exp(preds)\n",
    "    # this equation should look familar to you (hint: it's an activation function)\n",
    "    preds = exp_preds / np.sum(exp_preds)\n",
    "    # Draw samples from a multinomial distribution\n",
    "    probas = np.random.multinomial(1, preds, 1)\n",
    "    # return the index that corresponds to the max probability \n",
    "    return np.argmax(probas)\n",
    "\n",
    "def on_epoch_end(epoch, _):\n",
    "    \"\"\"\"\n",
    "    Function invoked at end of each epoch. Prints the text generated by our model.\n",
    "    \"\"\"\n",
    "    \n",
    "    print()\n",
    "    print('----- Generating text after Epoch: %d' % epoch)\n",
    "    \n",
    "\n",
    "    # randomly pick a starting index \n",
    "    # will be used to take a random sequence of chars from `text`\n",
    "    start_index = random.randint(0, len(text) - dctk.maxlen - 1)\n",
    "    \n",
    "    # this is our seed string (i.e. input seqeunce into the model)\n",
    "    generated = ''\n",
    "\n",
    "    # start the sentence at index `start_index` and include the next` dctk.maxlen` number of chars\n",
    "    sentence = text[start_index: start_index + dctk.maxlen]\n",
    "\n",
    "    # add to generated\n",
    "    generated += sentence\n",
    "\n",
    "    \n",
    "    print('----- Generating with seed: \"' + sentence + '\"')\n",
    "    sys.stdout.write(generated)\n",
    "    \n",
    "    # use model to predict what the next 40 chars should be that follow the seed string\n",
    "    for i in range(40):\n",
    "\n",
    "        # shape of a single sample in a rank 3 tensor \n",
    "        x_dims = (1, dctk.maxlen, dctk.n_features)\n",
    "        # create an array of zeros with shape x_dims\n",
    "        # recall that python considers zeros and boolean FALSE as the same\n",
    "        x_pred = np.zeros(x_dims)\n",
    "\n",
    "        # create a seq vector for our randomly select sequence \n",
    "        # i.e. create a numerical encoding for each char in the sequence \n",
    "        for t, char in enumerate(sentence):\n",
    "            # for sample 0 in seq index t and character `char` encode a 1 (which is the same as a TRUE)\n",
    "            x_pred[0, t, dctk.char_int[char]] = 1\n",
    "\n",
    "        # next, take the seq vector and pass into model to get a prediction of what the next char should be \n",
    "        preds = model.predict(x_pred, verbose=0)[0]\n",
    "        # use the sample helper function to get index for next char \n",
    "        next_index = sample(preds)\n",
    "        # use look up dict to get next char \n",
    "        next_char = dctk.int_char[next_index]\n",
    "\n",
    "        # append next char to sequence \n",
    "        sentence = sentence[1:] + next_char \n",
    "        \n",
    "        sys.stdout.write(next_char)\n",
    "        sys.stdout.flush()\n",
    "    print()"
   ]
  },
  {
   "cell_type": "code",
   "execution_count": 39,
   "metadata": {},
   "outputs": [],
   "source": [
    "# need this for on_epoch_end()\n",
    "text = \" \".join(clean_sonnets)"
   ]
  },
  {
   "cell_type": "code",
   "execution_count": 40,
   "metadata": {},
   "outputs": [],
   "source": [
    "# create callback object that will print out text generation at the end of each epoch \n",
    "# use for real-time monitoring of model performance\n",
    "print_callback = LambdaCallback(on_epoch_end=on_epoch_end)"
   ]
  },
  {
   "cell_type": "markdown",
   "metadata": {},
   "source": [
    "----\n",
    "### Train Model\n",
    "\n",
    "Build a text generation model using LSTMs. Feel free to reference the model used in the guided project. \n",
    "\n",
    "It is recommended that you train this model to at least 50 epochs (but more if you're computer can handle it). \n",
    "\n",
    "You are free to change up the architecture as you wish. \n",
    "\n",
    "Just in case you have difficultly training a model, there is a pre-trained model saved to a file called `trained_text_gen_model.h5` that you can load in (the same way that you learned how to load in Keras models in Sprint 2 Module 4). "
   ]
  },
  {
   "cell_type": "code",
   "execution_count": 42,
   "metadata": {
    "deletable": false,
    "nbgrader": {
     "cell_type": "code",
     "checksum": "e17312b57e17284124ce562dff81b00d",
     "grade": false,
     "grade_id": "cell-f34be90367fd9071",
     "locked": false,
     "schema_version": 3,
     "solution": true,
     "task": false
    }
   },
   "outputs": [
    {
     "output_type": "stream",
     "name": "stdout",
     "text": [
      "Epoch 1/10\n",
      "4/4 [==============================] - 12s 489ms/step - loss: 3.2818\n",
      "\n",
      "----- Generating text after Epoch: 0\n",
      "----- Generating with seed: \"husbandry in honour might uphold against \"\n",
      "husbandry in honour might uphold against kkcgluwrbvglgnpvpajfghkvojlgfwacaswlwisp\n",
      "Epoch 2/10\n",
      "4/4 [==============================] - 2s 462ms/step - loss: 3.1825\n",
      "\n",
      "----- Generating text after Epoch: 1\n",
      "----- Generating with seed: \"urs are seen without all ornament itself \"\n",
      "urs are seen without all ornament itself wnyjuam kpg sujfnrve hizmh cequ fmaofdbl\n",
      "Epoch 3/10\n",
      "4/4 [==============================] - 2s 445ms/step - loss: 2.9868\n",
      "\n",
      "----- Generating text after Epoch: 2\n",
      "----- Generating with seed: \"contain commit to these waste blanks and \"\n",
      "contain commit to these waste blanks and  yhs wwu   eoolnvhe   d lyt  seuye h  t \n",
      "Epoch 4/10\n",
      "4/4 [==============================] - 1s 283ms/step - loss: 2.8858\n",
      "\n",
      "----- Generating text after Epoch: 3\n",
      "----- Generating with seed: \"nly expressd for i have sworn thee fair a\"\n",
      "nly expressd for i have sworn thee fair aen  eeeutn oseyfmfslawaemrkair  tyatlhmc\n",
      "Epoch 5/10\n",
      "4/4 [==============================] - 1s 305ms/step - loss: 2.8540\n",
      "\n",
      "----- Generating text after Epoch: 4\n",
      "----- Generating with seed: \"n growing comes home again on better judg\"\n",
      "n growing comes home again on better judgyrotbsu ho  s uddfeho vwiexlernasdl esao\n",
      "Epoch 6/10\n",
      "4/4 [==============================] - 1s 283ms/step - loss: 2.8360\n",
      "\n",
      "----- Generating text after Epoch: 5\n",
      "----- Generating with seed: \" i be cast away the worst was thismy love\"\n",
      " i be cast away the worst was thismy loveoothotgeohswhc oataswa hi t otvhrhb t oe\n",
      "Epoch 7/10\n",
      "4/4 [==============================] - 1s 289ms/step - loss: 2.8229\n",
      "\n",
      "----- Generating text after Epoch: 6\n",
      "----- Generating with seed: \"foes that they elsewhere might dart their\"\n",
      "foes that they elsewhere might dart theirtef s ie    u  contis rtrwe   yiirh  ov \n",
      "Epoch 8/10\n",
      "4/4 [==============================] - 1s 290ms/step - loss: 2.8161\n",
      "\n",
      "----- Generating text after Epoch: 7\n",
      "----- Generating with seed: \"pyright or other intellectual property in\"\n",
      "pyright or other intellectual property in u  ebeheei yr  h ena dwwayduuidrt  s  a\n",
      "Epoch 9/10\n",
      "4/4 [==============================] - 1s 296ms/step - loss: 2.8135\n",
      "\n",
      "----- Generating text after Epoch: 8\n",
      "----- Generating with seed: \"hee xi as fast as thou shalt wane so fast\"\n",
      "hee xi as fast as thou shalt wane so fastcsa vy uetgs yel nhtf  ertnae  ri wpeoec\n",
      "Epoch 10/10\n",
      "4/4 [==============================] - 1s 308ms/step - loss: 2.8088\n",
      "\n",
      "----- Generating text after Epoch: 9\n",
      "----- Generating with seed: \"lave to mortal rage when i have seen the \"\n",
      "lave to mortal rage when i have seen the eboe ftha ss r tr  ahs floce     sn jteo\n"
     ]
    },
    {
     "output_type": "execute_result",
     "data": {
      "text/plain": [
       "<tensorflow.python.keras.callbacks.History at 0x7f4f4c1d6940>"
      ]
     },
     "metadata": {},
     "execution_count": 42
    }
   ],
   "source": [
    "# build text generation model layer by layer \n",
    "# fit model\n",
    "\n",
    "# YOUR CODE HERE\n",
    "# build another model for our task for forecasting what text should follow from our seed string \n",
    "model = Sequential()\n",
    "# hidden layer 1 \n",
    "model.add(LSTM(128, \n",
    "               input_shape=(dctk.maxlen, dctk.n_features), # think of input_shape as implicitly declaring the input layer \n",
    "               return_sequences=True)) # set to true whenever using 2 or more LSTM layers \n",
    "# hidden layer 2 \n",
    "model.add(LSTM(64))\n",
    "# this is our output layer\n",
    "# recall that n_features = num of nodes in output layer \n",
    "model.add(Dense(dctk.n_features, \n",
    "                activation='softmax'))\n",
    "# notice that we are using categorical_crossentropy this time around - why?\n",
    "model.compile(loss='categorical_crossentropy', \n",
    "              optimizer='adam')\n",
    "# fit the model\n",
    "# x and y are pretty large, consider sub-sampling\n",
    "model.fit(X[:1000], y[:1000],\n",
    "          batch_size=256,\n",
    "          epochs=10,\n",
    "          callbacks=[print_callback])"
   ]
  },
  {
   "cell_type": "code",
   "execution_count": 43,
   "metadata": {},
   "outputs": [],
   "source": [
    "# save trained model to file \n",
    "model.save(\"trained_text_gen_model.h5\")"
   ]
  },
  {
   "cell_type": "markdown",
   "metadata": {},
   "source": [
    "### Let's play with our trained model \n",
    "\n",
    "Now that we have a trained model that, though far from perfect, is able to generate actual English words, we can take a look at the predictions to continue to learn more about how a text generation model works. \n",
    "\n",
    "We can also take this as an opportunity to unpack the `def on_epoch_end` function to better understand how it works. "
   ]
  },
  {
   "cell_type": "code",
   "execution_count": 44,
   "metadata": {},
   "outputs": [
    {
     "output_type": "execute_result",
     "data": {
      "text/plain": [
       "conscience is yet who knows not conscience is born of love then gentle cheater urge not my amiss lest guilty of my faults thy sweet self prove for thou betraying me i do betray my nobler part to my gross bodys treason my soul doth tell my body that he may triumph in love flesh stays no farther reason but rising at thy name doth point out thee as his triumphant prize proud of this pride he is contented thy poor drudge to be to stand in thy affairs fall by thy side no want of conscience hold it that i call her love for whose dear love i rise and fall clii in loving thee thou knowst i am forsworn but thou art twice forsworn to me love swearing in act thy bedvow broke and new faith torn in vowing new hate after new love bearing but why of two oaths breach do i accuse thee when i break twenty i am perjurd most for all my vows are oaths but to misuse thee and all my honest faith in thee is lost for i have sworn deep oaths of thy deep kindness oaths of thy love thy truth thy constancy and to enlighten thee gave eyes to blindness or made them swear against the thing they see for i have sworn thee fair more perjurd i to swear against the truth so foul a lie cliii cupid laid by his brand and fell asleep a maid of dians this advantage found and his lovekindling fire did quickly steep in a cold valleyfountain of that ground which borrowd from this holy fire of love a dateless lively heat still to endure and grew a seeting bath which yet men prove against strange maladies a sovereign cure but at my mistress eye loves brand newfired the boy for trial needs would touch my breast i sick withal the help of bath desired and thither hied a sad distemperd guest but found no cure the bath for my help lies where cupid got new fire my mistress eyes cliv the little lovegod lying once asleep laid by his side his heartinflaming brand whilst many nymphs that vowd chaste life to keep came tripping by but in her maiden hand the fairest votary took up that fire which many legions of true hearts had warmd and so the general of hot desire was sleeping by a virgin hand disarmd this brand she quenched in a cool well by which from loves fire took heat perpetual growing a bath and healthful remedy for men diseasd but i my mistress thrall came there for cure and this by that i prove loves fire heats water water cools not love end of project gutenbergs shakespeares sonnets by william shakespeare  end of this project gutenberg ebook shakespeares sonnets   this file should be named txt or zip  this and all associated files of various formats will be found in httpwwwgutenbergorg produced by joseph s miller and embryriddle aeronautical university library html version by al haines updated editions will replace the previous onethe old editions will be renamed creating the works from public domain print editions means that no one owns a united states copyright in these works so the foundation and you can copy and distribute it in the united states without permission and without paying copyright royaltiesspecial rules set forth in the general terms of use part of this license apply to copying and distributing project gutenbergtm electronic works to protect the project gutenbergtm concept and trademarkproject gutenberg is a registered trademark and may not be used if you charge for the ebooks unless you receive specific permissionif you do not charge anything for copies of this ebook complying with the rules is very easyyou may use this ebook for nearly any purpose such as creation of derivative works reports performances and researchthey may be modified and printed and given awayyou may do practically anything with public domain ebooksredistribution is subject to the trademark license especially commercial redistribution  start full license  the full project gutenberg license please read this before you distribute or use this work to protect the project gutenbergtm mission of promoting the free distribution of electronic works by using or distributing this work or any other work associated in any way with the phrase project gutenberg you agree to comply with all the terms of the full project gutenbergtm license available with this file or online at wwwgutenbergorglicense sectiongeneral terms of use and redistributing project gutenbergtm electronic works aby reading or using any part of this project gutenbergtm electronic work you indicate that you have read understand agree to and accept all the terms of this license and intellectual property trademarkcopyright agreementif you do not agree to abide by all the terms of this agreement you must cease using and return or destroy all copies of project gutenbergtm electronic works in your possession if you paid a fee for obtaining a copy of or access to a project gutenbergtm electronic work and you do not agree to be bound by the terms of this agreement you may obtain a refund from the person or entity to whom you paid the fee as set forth in paragraph e bproject gutenberg is a registered trademarkit may only be used on or associated in any way with an electronic work by people who agree to be bound by the terms of this agreementthere are a few things that you can do with most project gutenbergtm electronic works even without complying with the full terms of this agreementsee paragraph c belowthere are a lot of things you can do with project gutenbergtm electronic works if you follow the terms of this agreement and help preserve free future access to project gutenbergtm electronic workssee paragraph e below cthe project gutenberg literary archive foundation the foundation or pglaf owns a compilation copyright in the collection of project gutenbergtm electronic worksnearly all the individual works in the collection are in the public domain in the united statesif an individual work is in the public domain in the united states and you are located in the united states we do not claim a right to prevent you from copying distributing performing displaying or creating derivative works based on the work as long as all references to project gutenberg are removedof course we hope that you will support the project gutenbergtm mission of promoting free access to electronic works by freely sharing project gutenbergtm works in compliance with the terms of this agreement for keeping the project gutenbergtm name associated with the workyou can easily comply with the terms of this agreement by keeping this work in the same format with its attached full project gutenbergtm license when you share it without charge with others dthe copyright laws of the place where you are located also govern what you can do with this workcopyright laws in most countries are in a constant state of changeif you are outside the united states check the laws of your country in addition to the terms of this agreement before downloading copying displaying performing distributing or creating derivative works based on this work or any other project gutenbergtm workthe foundation makes no representations concerning the copyright status of any work in any country outside the united states eunless you have removed all references to project gutenberg ethe following sentence with active links to or other immediate access to the full project gutenbergtm license must appear prominently whenever any copy of a project gutenbergtm work any work on which the phrase project gutenberg appears or with which the phrase project gutenberg is associated is accessed displayed performed viewed copied or distributed this ebook is for the use of anyone anywhere at no cost and with almost no restrictions whatsoeveryou may copy it give it away or reuse it under the terms of the project gutenberg license included with this ebook or online at wwwgutenbergorg eif an individual project gutenbergtm electronic work is derived from the public domain does not contain a notice indicating that it is posted with permission of the copyright holder the work can be copied and distributed to anyone in the united states without paying any fees or chargesif you are redistributing or providing access to a work with the phrase project gutenberg associated with or appearing on the work you must comply either with the requirements of paragraphs e through e or obtain permission for the use of the work and the project gutenbergtm trademark as set forth in paragraphs e or e eif an individual project gutenbergtm electronic work is posted with the permission of the copyright holder your use and distribution must comply with both paragraphs e through e and any additional terms imposed by the copyright holderadditional terms will be linked to the project gutenbergtm license for all works posted with the permission of the copyright holder found at the beginning of this work edo not unlink or detach or remove the full project gutenbergtm license terms from this work or any files containing a part of this work or any other work associated with project gutenbergtm edo not copy display perform distribute or redistribute this electronic work or any part of this electronic work without prominently displaying the sentence set forth in paragraph e with active links or immediate access to the full terms of the project gutenbergtm license eyou may convert to and distribute this work in any binary compressed marked up nonproprietary or proprietary form including any word processing or hypertext formhowever if you provide access to or distribute copies of a project gutenbergtm work in a format other than plain vanilla ascii or other format used in the official version posted on the official project gutenbergtm web site wwwgutenbergorg you must at no additional cost fee or expense to the user provide a copy a means of exporting a copy or a means of obtaining a copy upon request of the work in its original plain vanilla ascii or other formany alternate format must include the full project gutenbergtm license as specified in paragraph e edo not charge a fee for access to viewing displaying performing copying or distributing any project gutenbergtm works unless you comply with paragraph e or e eyou may charge a reasonable fee for copies of or providing access to or distributing project gutenbergtm electronic works provided that  you pay a royalty fee ofof the gross profits you derive from the use of project gutenbergtm works calculated using the method you already use to calculate your applicable taxesthe fee is owed to the owner of the project gutenbergtm trademark but he has agreed to donate royalties under this paragraph to the project gutenberg literary archive foundationroyalty payments must be paid withindays following each date on which you prepare or are legally required to prepare your periodic tax returnsroyalty payments should be clearly marked as such and sent to the project gutenberg literary archive foundation at the address specified in sectioninformation about donations to the project gutenberg literary archive foundation  you provide a full refund of any money paid by a user who notifies you in writing or by email withindays of receipt that she does not agree to the terms of the full project gutenbergtm licenseyou must require such a user to return or destroy all copies of the works possessed in a physical medium and discontinue all use of and all access to other copies of project gutenbergtm works  you provide in accordance with paragraph f a full refund of any money paid for a work or a replacement copy if a defect in the electronic work is discovered and reported to you withindays of receipt of the work  you comply with all other terms of this agreement for free distribution of project gutenbergtm works eif you wish to charge a fee or distribute a project gutenbergtm electronic work or group of works on different terms than are set forth in this agreement you must obtain permission in writing from both the project gutenberg literary archive foundation and michael hart the owner of the project gutenbergtm trademarkcontact the foundation as set forth in sectionbelow f fproject gutenberg volunteers and employees expend considerable effort to identify do copyright research on transcribe and proofread public domain works in creating the project gutenbergtm collectiondespite these efforts project gutenbergtm electronic works and the medium on which they may be stored may contain defects such as but not limited to incomplete inaccurate or corrupt data transcription errors a copyright or other intellectual property infringement a defective or damaged disk or other medium a computer virus or computer codes that damage or cannot be read by your equipment flimited warranty disclaimer of damagesexcept for the right of replacement or refund described in paragraph f the project gutenberg literary archive foundation the owner of the project gutenbergtm trademark and any other party distributing a project gutenbergtm electronic work under this agreement disclaim all liability to you for damages costs and expenses including legal feesyou agree that you have no remedies for negligence strict liability breach of warranty or breach of contract except those provided in paragraph fyou agree that the foundation the trademark owner and any distributor under this agreement will not be liable to you for actual direct indirect consequential punitive or incidental damages even if you give notice of the possibility of such damage flimited right of replacement or refundif you discover a defect in this electronic work withindays of receiving it you can receive a refund of the money if any you paid for it by sending a written explanation to the person you received the work fromif you received the work on a physical medium you must return the medium with your written explanationthe person or entity that provided you with the defective work may elect to provide a replacement copy in lieu of a refundif you received the work electronically the person or entity providing it to you may choose to give you a second opportunity to receive the work electronically in lieu of a refundif the second copy is also defective you may demand a refund in writing without further opportunities to fix the problem fexcept for the limited right of replacement or refund set forth in paragraph f this work is provided to you asis with no other warranties of any kind express or implied including but not limited to warranties of merchantability or fitness for any purpose fsome states do not allow disclaimers of certain implied warranties or the exclusion or limitation of certain types of damages if any disclaimer or limitation set forth in this agreement violates the law of the state applicable to this agreement the agreement shall be interpreted to make the maximum disclaimer or limitation permitted by the applicable state lawthe invalidity or unenforceability of any provision of this agreement shall not void the remaining provisions findemnityyou agree to indemnify and hold the foundation the trademark owner any agent or employee of the foundation anyone providing copies of project gutenbergtm electronic works in accordance with this agreement and any volunteers associated with the production promotion and distribution of project gutenbergtm electronic works harmless from all liability costs and expenses including legal fees that arise directly or indirectly from any of the following which you do or cause to occur a distribution of this or any project gutenbergtm work b alteration modification or additions or deletions to any project gutenbergtm work and c any defect you cause sectioninformation about the mission of project gutenbergtm project gutenbergtm is synonymous with the free distribution of electronic works in formats readable by the widest variety of computers including obsolete old middleaged and new computersit exists because of the efforts of hundreds of volunteers and donations from people in all walks of life volunteers and financial support to provide volunteers with the assistance they need are critical to reaching project gutenbergtms goals and ensuring that the project gutenbergtm collection will remain freely available for generations to comeinthe project gutenberg literary archive foundation was created to provide a secure and permanent future for project gutenbergtm and future generations to learn more about the project gutenberg literary archive foundation and how your efforts and donations can help see sectionsand  and the foundation information page at wwwgutenbergorg sectioninformation about the project gutenberg literary archive foundation the project gutenberg literary archive foundation is a non profit c educational corporation organized under the laws of the state of mississippi and granted tax exempt status by the internal revenue servicethe foundations ein or federal tax identification number iscontributions to the project gutenberg literary archive foundation are tax deductible to the full extent permitted by us federal laws and your states laws the foundations principal office is located atmelan dr s fairbanks akbut its volunteers and employees are scattered throughout numerous locationsits business office is located at  northwest salt lake city utemail contact links and up to date contact information can be found at the foundations web site and official page at wwwgutenbergorgcontact for additional contact information dr gregory b newby chief executive and director gbnewbypglaforg sectioninformation about donations to the project gutenberg literary archive foundation project gutenbergtm depends upon and cannot survive without wide spread public support and donations to carry out its mission of increasing the number of public domain and licensed works that can be freely distributed in machine readable form accessible by the widest array of equipment including outdated equipmentmany small donations  toare particularly important to maintaining tax exempt status with the irs the foundation is committed to complying with the laws regulating charities and charitable donations in allstates of the united statescompliance requirements are not uniform and it takes a considerable effort much paperwork and many fees to meet and keep up with these requirementswe do not solicit donations in locations where we have not received written confirmation of complianceto send donations or determine the status of compliance for any particular state visit wwwgutenbergorgdonate while we cannot and do not solicit contributions from states where we have not met the solicitation requirements we know of no prohibition against accepting unsolicited donations from donors in such states who approach us with offers to donate international donations are gratefully accepted but we cannot make any statements concerning tax treatment of donations received from outside the united statesus laws alone swamp our small staff please check the project gutenberg web pages for current donation methods and addressesdonations are accepted in a number of other ways including checks online payments and credit card donations to donate please visitwwwgutenbergorgdonate sectiongeneral information about project gutenbergtm electronic works professor michael s hart was the originator of the project gutenbergtm concept of a library of electronic works that could be freely shared with anyonefor forty years he produced and distributed project gutenbergtm ebooks with only a loose network of volunteer support project gutenbergtm ebooks are often created from several printed editions all of which are confirmed as public domain in the us unless a copyright notice is includedthus we do not necessarily keep ebooks in compliance with any particular paper edition most people start at our web site which has the main pg search facility wwwgutenbergorg this web site includes information about project gutenbergtm including how to make donations to the project gutenberg literary archive foundation how to help produce our new ebooks and how to subscribe to our email newsletter to hear about new ebooks'"
      ]
     },
     "metadata": {},
     "execution_count": 44
    }
   ],
   "source": [
    "# this is our joinned clean sonnet data\n",
    "text"
   ]
  },
  {
   "cell_type": "code",
   "execution_count": 45,
   "metadata": {},
   "outputs": [
    {
     "output_type": "execute_result",
     "data": {
      "text/plain": [
       "51662"
      ]
     },
     "metadata": {},
     "execution_count": 45
    }
   ],
   "source": [
    "# randomly pick a starting index \n",
    "# will be used to take a random sequence of chars from `text`\n",
    "# run this cell a few times and you'll see `start_index` is random\n",
    "start_index = random.randint(0, len(text) - dctk.maxlen - 1)\n",
    "start_index"
   ]
  },
  {
   "cell_type": "code",
   "execution_count": 46,
   "metadata": {},
   "outputs": [
    {
     "output_type": "execute_result",
     "data": {
      "text/plain": [
       "' disposd to set me light and place my mer'"
      ]
     },
     "metadata": {},
     "execution_count": 46
    }
   ],
   "source": [
    "# next use the randomly selected starting index to sample a sequence from the `text`\n",
    "\n",
    "# this is our seed string (i.e. input seqeunce into the model)\n",
    "generated = ''\n",
    "\n",
    "# start the sentence at index `start_index` and include the next` dctk.maxlen` number of chars\n",
    "sentence = text[start_index: start_index + dctk.maxlen]\n",
    "\n",
    "# add to generated\n",
    "generated += sentence\n",
    "\n",
    "generated"
   ]
  },
  {
   "cell_type": "code",
   "execution_count": 47,
   "metadata": {},
   "outputs": [
    {
     "output_type": "stream",
     "name": "stdout",
     "text": [
      "----- Generating with seed: \" disposd to set me light and place my mer\"\n disposd to set me light and place my mer"
     ]
    }
   ],
   "source": [
    "# this block of code let's us know what the seed string is \n",
    "# i.e. the input seqeunce into the model\n",
    "print('----- Generating with seed: \"' + sentence + '\"')\n",
    "sys.stdout.write(generated)"
   ]
  },
  {
   "cell_type": "code",
   "execution_count": 48,
   "metadata": {},
   "outputs": [],
   "source": [
    "# use model to predict what the next 40 chars should be that follow the seed string\n",
    "for i in range(40):\n",
    "\n",
    "    # shape of a single sample in a rank 3 tensor \n",
    "    x_dims = (1, dctk.maxlen, dctk.n_features)\n",
    "    # create an array of zeros with shape x_dims\n",
    "    # recall that python considers zeros and boolean FALSE as the same\n",
    "    x_pred = np.zeros(x_dims)\n",
    "\n",
    "    # create a seq vector for our randomly select sequence \n",
    "    # i.e. create a numerical encoding for each char in the sequence \n",
    "    for t, char in enumerate(sentence):\n",
    "        # for sample 0 in seq index t and character `char` encode a 1 (which is the same as a TRUE)\n",
    "        x_pred[0, t, dctk.char_int[char]] = 1\n",
    "\n",
    "    # next, take the seq vector and pass into model to get a prediction of what the next char should be \n",
    "    preds = model.predict(x_pred, verbose=0)[0]\n",
    "    # use the sample helper function to get index for next char \n",
    "    next_index = sample(preds)\n",
    "    # use look up dict to get next char \n",
    "    next_char = dctk.int_char[next_index]\n",
    "\n",
    "    # append next char to sequence \n",
    "    sentence = sentence[1:] + next_char "
   ]
  },
  {
   "cell_type": "code",
   "execution_count": 49,
   "metadata": {},
   "outputs": [
    {
     "output_type": "execute_result",
     "data": {
      "text/plain": [
       "' disposd to set me light and place my mer'"
      ]
     },
     "metadata": {},
     "execution_count": 49
    }
   ],
   "source": [
    "# this is the seed string\n",
    "generated"
   ]
  },
  {
   "cell_type": "code",
   "execution_count": 50,
   "metadata": {},
   "outputs": [
    {
     "output_type": "execute_result",
     "data": {
      "text/plain": [
       "'r msn  oufesn gfwtnp id   pbsntepg  tgs z'"
      ]
     },
     "metadata": {},
     "execution_count": 50
    }
   ],
   "source": [
    "# these are the 40 chars that the model thinks should come after the seed stirng\n",
    "sentence"
   ]
  },
  {
   "cell_type": "code",
   "execution_count": 51,
   "metadata": {},
   "outputs": [
    {
     "output_type": "execute_result",
     "data": {
      "text/plain": [
       "' disposd to set me light and place my merr msn  oufesn gfwtnp id   pbsntepg  tgs z'"
      ]
     },
     "metadata": {},
     "execution_count": 51
    }
   ],
   "source": [
    "# how put it all together\n",
    "generated + sentence"
   ]
  },
  {
   "cell_type": "markdown",
   "metadata": {
    "colab_type": "text",
    "id": "zE4a4O7Bp5x1"
   },
   "source": [
    "# Resources and Stretch Goals"
   ]
  },
  {
   "cell_type": "markdown",
   "metadata": {
    "colab_type": "text",
    "id": "uT3UV3gap9H6"
   },
   "source": [
    "## Stretch goals:\n",
    "- Refine the training and generation of text to be able to ask for different genres/styles of Shakespearean text (e.g. plays versus sonnets)\n",
    "- Train a classification model that takes text and returns which work of Shakespeare it is most likely to be from\n",
    "- Make it more performant! Many possible routes here - lean on Keras, optimize the code, and/or use more resources (AWS, etc.)\n",
    "- Revisit the news example from class, and improve it - use categories or tags to refine the model/generation, or train a news classifier\n",
    "- Run on bigger, better data\n",
    "\n",
    "## Resources:\n",
    "- [The Unreasonable Effectiveness of Recurrent Neural Networks](https://karpathy.github.io/2015/05/21/rnn-effectiveness/) - a seminal writeup demonstrating a simple but effective character-level NLP RNN\n",
    "- [Simple NumPy implementation of RNN](https://github.com/JY-Yoon/RNN-Implementation-using-NumPy/blob/master/RNN%20Implementation%20using%20NumPy.ipynb) - Python 3 version of the code from \"Unreasonable Effectiveness\"\n",
    "- [TensorFlow RNN Tutorial](https://github.com/tensorflow/models/tree/master/tutorials/rnn) - code for training a RNN on the Penn Tree Bank language dataset\n",
    "- [4 part tutorial on RNN](http://www.wildml.com/2015/09/recurrent-neural-networks-tutorial-part-1-introduction-to-rnns/) - relates RNN to the vanishing gradient problem, and provides example implementation\n",
    "- [RNN training tips and tricks](https://github.com/karpathy/char-rnn#tips-and-tricks) - some rules of thumb for parameterizing and training your RNN"
   ]
  }
 ],
 "metadata": {
  "kernelspec": {
   "name": "python370jvsc74a57bd0720f30081e7743fcf513c6f272172d06411d7d8ed830cd2c93153dfc013a007c",
   "display_name": "Python 3.7.0 64-bit ('U4-S3-DL': conda)"
  },
  "language_info": {
   "codemirror_mode": {
    "name": "ipython",
    "version": 3
   },
   "file_extension": ".py",
   "mimetype": "text/x-python",
   "name": "python",
   "nbconvert_exporter": "python",
   "pygments_lexer": "ipython3",
   "version": "3.7.0"
  },
  "nteract": {
   "version": "0.23.3"
  }
 },
 "nbformat": 4,
 "nbformat_minor": 4
}